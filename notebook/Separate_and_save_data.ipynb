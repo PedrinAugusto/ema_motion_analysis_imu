{
 "cells": [
  {
   "cell_type": "markdown",
   "metadata": {},
   "source": [
    "# Algoritmo para separar os dados do movimento desejado, utilizando os dados do vídeo com os dados de IMUs que foram sincornizados"
   ]
  },
  {
   "cell_type": "code",
   "execution_count": 1,
   "metadata": {
    "Collapsed": "false"
   },
   "outputs": [],
   "source": [
    "import os\n",
    "import collections\n",
    "import re\n",
    "import cv2\n",
    "\n",
    "import numpy as np\n",
    "import pandas as pd\n",
    "import math\n",
    "import matplotlib.pyplot as plt\n",
    "import scipy.io as sio\n",
    "import scipy.signal as signal\n",
    "from pathlib import Path\n",
    "\n",
    "import sys\n",
    "sys.path.append(\"../src\")\n",
    "#importlib.reload(data_conversions)\n",
    "from conversion_mat_to_py import mat2dict, pretty_dict, matobj2dict, dict2ntuple\n",
    "from sources_cv2 import defineStartEnd, count_frames\n",
    "from save_datas import save_data\n",
    "from data_conversions import acc_to_angle\n"
   ]
  },
  {
   "cell_type": "code",
   "execution_count": 2,
   "metadata": {},
   "outputs": [],
   "source": [
    "def SaveStartEnd(new_start_end, name_description):\n",
    "    \n",
    "    '''Dados do início e fim do movimento de sentar e levantar'''\n",
    "    '''Entrada: DataFrame com dados de início e fim da IMU e do frame correspondente'''\n",
    "    \n",
    "    caminho = '/Users/User/OneDrive/TCC/ema_motion_analysis_imu/data/'\n",
    "    arquivo = 'Start_End_Sit_and_Stand.csv'\n",
    "    \n",
    "    start_end = pd.read_csv(caminho + arquivo, sep = ';')\n",
    "    \n",
    "    try:\n",
    "        start_end.loc[:,[name_description]]\n",
    "        start_end.loc[:,[name_description]] = new_start_end[[name_description]]\n",
    "        print('Dados Atualizados')\n",
    "    except KeyError:\n",
    "        start_end = pd.merge(start_end, new_start_end, on = 'Description')\n",
    "        print('Dados Adicionados')\n",
    "    \n",
    "    start_end.to_csv(caminho + arquivo, sep = ';', index = False)"
   ]
  },
  {
   "cell_type": "code",
   "execution_count": 3,
   "metadata": {
    "Collapsed": "false"
   },
   "outputs": [],
   "source": [
    "# Caminho onde estão os dados .mat\n",
    "caminho = '/Users/User/OneDrive/TCC/MoVi/IMUmatlab_Subject/'\n"
   ]
  },
  {
   "cell_type": "markdown",
   "metadata": {},
   "source": [
    "### -> Escolher o voluntário"
   ]
  },
  {
   "cell_type": "code",
   "execution_count": 5,
   "metadata": {},
   "outputs": [],
   "source": [
    "\n",
    "# Número do arquivo do voluntário, alterar apenas o número\n",
    "\n",
    "''' Alterar o número do sujeito analisado'''\n",
    "\n",
    "voluntary = 52\n"
   ]
  },
  {
   "cell_type": "code",
   "execution_count": 6,
   "metadata": {},
   "outputs": [],
   "source": [
    "voluntary = str(voluntary)\n",
    "imu_filename = caminho + 'imu_Subject_' + voluntary + '.mat'"
   ]
  },
  {
   "cell_type": "code",
   "execution_count": 7,
   "metadata": {},
   "outputs": [
    {
     "name": "stdout",
     "output_type": "stream",
     "text": [
      "\tKey: S1_Synched\n",
      "\t\tKey: originalFile\n",
      "\t\tKey: description\n",
      "\t\tKey: jointNumbers\n",
      "\t\tKey: jointNames\n",
      "\t\tKey: dataTypes\n",
      "\t\tKey: dataTypesDescription\n",
      "\t\tKey: dataHeader\n",
      "\t\tKey: data\n",
      "\t\tKey: delay\n",
      "\t\tKey: scale\n",
      "\tKey: S2_Synched\n",
      "\t\tKey: originalFile\n",
      "\t\tKey: description\n",
      "\t\tKey: jointNumbers\n",
      "\t\tKey: jointNames\n",
      "\t\tKey: dataTypes\n",
      "\t\tKey: dataTypesDescription\n",
      "\t\tKey: dataHeader\n",
      "\t\tKey: data\n",
      "\t\tKey: delay\n",
      "\t\tKey: scale\n",
      "\tKey: I1\n",
      "\t\tKey: originalFile\n",
      "\t\tKey: description\n",
      "\t\tKey: jointNumbers\n",
      "\t\tKey: jointNames\n",
      "\t\tKey: dataTypes\n",
      "\t\tKey: dataTypesDescription\n",
      "\t\tKey: dataHeader\n",
      "\t\tKey: data\n",
      "\tKey: I2\n",
      "\t\tKey: originalFile\n",
      "\t\tKey: description\n",
      "\t\tKey: jointNumbers\n",
      "\t\tKey: jointNames\n",
      "\t\tKey: dataTypes\n",
      "\t\tKey: dataTypesDescription\n",
      "\t\tKey: dataHeader\n",
      "\t\tKey: data\n",
      "\tKey: S1\n",
      "\t\tKey: originalFile\n",
      "\t\tKey: description\n",
      "\t\tKey: jointNumbers\n",
      "\t\tKey: jointNames\n",
      "\t\tKey: dataTypes\n",
      "\t\tKey: dataTypesDescription\n",
      "\t\tKey: dataHeader\n",
      "\t\tKey: data\n",
      "\tKey: S2\n",
      "\t\tKey: originalFile\n",
      "\t\tKey: description\n",
      "\t\tKey: jointNumbers\n",
      "\t\tKey: jointNames\n",
      "\t\tKey: dataTypes\n",
      "\t\tKey: dataTypesDescription\n",
      "\t\tKey: dataHeader\n",
      "\t\tKey: data\n"
     ]
    }
   ],
   "source": [
    "\n",
    "# Reading MoVi files as a Python dictionary\n",
    "sample = mat2dict(imu_filename)\n",
    "pretty_dict(sample, print_type=False, indent=1)"
   ]
  },
  {
   "cell_type": "markdown",
   "metadata": {},
   "source": [
    "# -> Escolher chave!!!"
   ]
  },
  {
   "cell_type": "code",
   "execution_count": 8,
   "metadata": {
    "Collapsed": "false"
   },
   "outputs": [],
   "source": [
    "\n",
    "''' Escolher a chave na qual os dados serão utiliados'''\n",
    "''' S1 possui a pose em pé entre os movimentos'''\n",
    "\n",
    "key = 'S1_Synched'\n"
   ]
  },
  {
   "cell_type": "code",
   "execution_count": 9,
   "metadata": {},
   "outputs": [],
   "source": [
    "Data = sample[key]['data']\n",
    "name_description = sample[key]['description']\n",
    "data_complete = pd.DataFrame(Data)"
   ]
  },
  {
   "cell_type": "code",
   "execution_count": 10,
   "metadata": {},
   "outputs": [
    {
     "name": "stdout",
     "output_type": "stream",
     "text": [
      "\tKey: __header__\n",
      "\tKey: __version__\n",
      "\tKey: __globals__\n",
      "\tKey: None\n",
      "\tKey: __function_workspace__\n"
     ]
    }
   ],
   "source": [
    "dataHeader_filename = caminho + 'dataHeader.mat'\n",
    "dataHeader = sio.loadmat(dataHeader_filename)\n",
    "pretty_dict(dataHeader, print_type=False, indent=1)\n",
    "\n",
    "header = pd.read_csv(caminho + 'columns.csv', sep=';')\n",
    "header = header[:].values.tolist()\n",
    "\n",
    "#Transformar os dados em um data frame para facilitar a visualização\n",
    "data = pd.DataFrame(Data, columns=header)"
   ]
  },
  {
   "cell_type": "markdown",
   "metadata": {},
   "source": [
    "## Separando apenas os dados do movimento de sentar e levantar\n",
    "\n",
    "Verificar os dados de acordo com os vídeos.\n",
    "\n"
   ]
  },
  {
   "cell_type": "code",
   "execution_count": 11,
   "metadata": {},
   "outputs": [],
   "source": [
    "video_path = '/Users/User/OneDrive/TCC/MoVi/Videos/'\n",
    "\n",
    "if key == 'S1_Synched' or key == 'S1':\n",
    "    video_S = 'S1'\n",
    "    \n",
    "elif key == 'S2_Synched' or key == 'S2':\n",
    "    video_S = 'S2'\n",
    "\n",
    "else:\n",
    "    print('Não possui vídeo correspondente a esses dados')\n"
   ]
  },
  {
   "cell_type": "code",
   "execution_count": 12,
   "metadata": {},
   "outputs": [],
   "source": [
    "video_name = video_path + video_S + '_PG1_Subject_' + voluntary + '_L.avi'\n",
    "\n",
    "\n",
    "# Frequencia dos dados\n",
    "\n",
    "freq_IMU = 120\n",
    "\n",
    "n_frames, fps = count_frames(video_name)"
   ]
  },
  {
   "cell_type": "markdown",
   "metadata": {},
   "source": [
    "# -> Escolher o tempo de início aproximado para o movimento de sentar e levantar"
   ]
  },
  {
   "cell_type": "code",
   "execution_count": 13,
   "metadata": {},
   "outputs": [
    {
     "name": "stdout",
     "output_type": "stream",
     "text": [
      "Utilizar o vídeo com o seguinte nome:  S1_PG1_Subject_52_L.avi\n"
     ]
    }
   ],
   "source": [
    "print('Utilizar o vídeo com o seguinte nome: ', video_S + '_PG1_Subject_' + voluntary + '_L.avi' )"
   ]
  },
  {
   "cell_type": "code",
   "execution_count": 16,
   "metadata": {},
   "outputs": [],
   "source": [
    "\n",
    "'''Alterar o tempo de início aproximado do movimento de sentar e levantar'''\n",
    "\n",
    "# alterar o minuto do vídeo para o movimento de sentar\n",
    "min_init_video = 0\n",
    "# alterar o segundo do vídeo para o movimento de sentar\n",
    "seg_init_video = 40\n",
    "\n",
    "aprox_init_video = int(((min_init_video * 60) + seg_init_video) * fps)"
   ]
  },
  {
   "cell_type": "code",
   "execution_count": 17,
   "metadata": {},
   "outputs": [
    {
     "name": "stdout",
     "output_type": "stream",
     "text": [
      "[1224, 0]\n",
      "[1224, 1457]\n"
     ]
    }
   ],
   "source": [
    "start_end = defineStartEnd(video_name, n_frames, aprox_init_video)"
   ]
  },
  {
   "cell_type": "code",
   "execution_count": 18,
   "metadata": {},
   "outputs": [
    {
     "data": {
      "text/plain": [
       "933"
      ]
     },
     "execution_count": 18,
     "metadata": {},
     "output_type": "execute_result"
    }
   ],
   "source": [
    "# frame de início e final do movimento de sentar e levantar\n",
    "frame_start = start_end[0]\n",
    "frame_end = start_end[1]\n",
    "\n",
    "# converter o frame do vídeo do início do movimento de sentar para o dado de IMU correspondente \n",
    "temp_start = frame_start / fps\n",
    "IMU_start = int(temp_start * freq_IMU)\n",
    "\n",
    "# converter o frame do vídeo do final do movimento de levantar para o dado de IMU correspondente \n",
    "temp_end = frame_end / fps\n",
    "IMU_end = int(temp_end * freq_IMU)\n",
    "\n",
    "# criando os dados apenas com as informações de sentar e levantar\n",
    "data_sit_to_stand = data.iloc[IMU_start:IMU_end + 1,:]\n",
    "len(data_sit_to_stand)"
   ]
  },
  {
   "cell_type": "code",
   "execution_count": 19,
   "metadata": {},
   "outputs": [],
   "source": [
    "# Criar DataFrame com os valores das amostras e frames de início e fim\n",
    "x = [[IMU_start],[IMU_end],[frame_start],[frame_end]]\n",
    "new_start_end = pd.DataFrame(x, columns = [name_description] )\n",
    "\n",
    "# Criar DataFrame com os nomes das amostras e frames de início e fim\n",
    "infos = np.array([['IMU_start'],['IMU_end'],['frame_start'],['frame_end']])\n",
    "new_start_end_2 = pd.DataFrame(infos, columns = ['Description'])\n",
    "\n",
    "# Criar DataFrame com os nomes e valores das amotras e frames de início e fim\n",
    "new_start_end = pd.concat((new_start_end_2, new_start_end), axis = 1)\n",
    "\n"
   ]
  },
  {
   "cell_type": "markdown",
   "metadata": {},
   "source": [
    "## Separar apenas os dados de aceleração dos sensores da coxa e os do tronco\n",
    "\n",
    "Para utilizar os dados de aceleração do pescoço e das pernas, utilizaremos os dados do:\n",
    "* sensor 1 [10:13], 16 [250:253], 17 [266:269], 18 [282:285], 19 [298:301], 20 [314:317], 21 [330:333] -> quadril, cabeça, pescoço, tronco 3 2 1;\n",
    "* sensor 2 [26:29] -> coxa direita;\n",
    "* sensor 5 [74:77] -> coxa esquerda. \n",
    "\n"
   ]
  },
  {
   "cell_type": "code",
   "execution_count": 20,
   "metadata": {},
   "outputs": [],
   "source": [
    "# Criando os dados apenas com os sensores desejados e dados de aceleração\n",
    "data_set = pd.concat((data_sit_to_stand.iloc[:,10:13], data_sit_to_stand.iloc[:,26:29], data_sit_to_stand.iloc[:,74:77], \n",
    "                      data_sit_to_stand.iloc[:,250:253],data_sit_to_stand.iloc[:,266:269], data_sit_to_stand.iloc[:,282:285], \n",
    "                      data_sit_to_stand.iloc[:,298:301], data_sit_to_stand.iloc[:,314:317], data_sit_to_stand.iloc[:,330:333]),\n",
    "                     axis=1)"
   ]
  },
  {
   "cell_type": "markdown",
   "metadata": {},
   "source": [
    "### Prévia dos dados"
   ]
  },
  {
   "cell_type": "code",
   "execution_count": 21,
   "metadata": {},
   "outputs": [],
   "source": [
    "data_18_A = data_set.iloc[:,15:18].values\n",
    "data_5_A = data_set.iloc[:,6:9].values\n",
    "data_21_A = data_set.iloc[:,24:27].values\n",
    "\n",
    "angle_rad_neck, angle_neck = acc_to_angle(data_18_A)\n",
    "angle_rad_right_up_leg, angle_right_up_leg = acc_to_angle(data_5_A)\n",
    "angle_rad_trunk, angle_trunk = acc_to_angle(data_21_A)"
   ]
  },
  {
   "cell_type": "code",
   "execution_count": 22,
   "metadata": {},
   "outputs": [
    {
     "data": {
      "text/plain": [
       "[<matplotlib.lines.Line2D at 0x256edeb0880>]"
      ]
     },
     "execution_count": 22,
     "metadata": {},
     "output_type": "execute_result"
    },
    {
     "data": {
      "image/png": "[encoded data removed]",
      "text/plain": [
       "<Figure size 432x288 with 2 Axes>"
      ]
     },
     "metadata": {
      "needs_background": "light"
     },
     "output_type": "display_data"
    }
   ],
   "source": [
    "fig, axs = plt.subplots(2, sharex=True, sharey=True)\n",
    "\n",
    "axs[0].plot(angle_rad_neck)\n",
    "axs[1].plot(angle_rad_right_up_leg)\n",
    "#axs[2].plot(angle_rad_trunk)"
   ]
  },
  {
   "cell_type": "code",
   "execution_count": 23,
   "metadata": {},
   "outputs": [
    {
     "data": {
      "image/png": "[encoded data removed]",
      "text/plain": [
       "<Figure size 432x288 with 1 Axes>"
      ]
     },
     "metadata": {
      "needs_background": "light"
     },
     "output_type": "display_data"
    }
   ],
   "source": [
    "plt.subplot(111)\n",
    "\n",
    "plt.plot(angle_neck, label = 'Neck')\n",
    "plt.plot(angle_right_up_leg, label = 'Up Leg')\n",
    "#plt.plot(angle_trunk, label = 'Trunk')\n",
    "\n",
    "plt.legend()\n",
    "\n",
    "plt.grid()\n",
    "plt.show()"
   ]
  },
  {
   "cell_type": "markdown",
   "metadata": {},
   "source": [
    "### Salvar os dados"
   ]
  },
  {
   "cell_type": "code",
   "execution_count": 24,
   "metadata": {},
   "outputs": [
    {
     "name": "stdout",
     "output_type": "stream",
     "text": [
      "Dados Atualizados\n"
     ]
    }
   ],
   "source": [
    "# Salvar dados das IMUs referentes ao movimento de sentar e levantar\n",
    "save_data(data_set, key, name_description)\n",
    "# Salvar os dados das amostras e frames de início e fim \n",
    "SaveStartEnd(new_start_end, name_description)"
   ]
  },
  {
   "cell_type": "code",
   "execution_count": 25,
   "metadata": {},
   "outputs": [
    {
     "data": {
      "text/html": [
       "<div>\n",
       "<style scoped>\n",
       "    .dataframe tbody tr th:only-of-type {\n",
       "        vertical-align: middle;\n",
       "    }\n",
       "\n",
       "    .dataframe tbody tr th {\n",
       "        vertical-align: top;\n",
       "    }\n",
       "\n",
       "    .dataframe thead th {\n",
       "        text-align: right;\n",
       "    }\n",
       "</style>\n",
       "<table border=\"1\" class=\"dataframe\">\n",
       "  <thead>\n",
       "    <tr style=\"text-align: right;\">\n",
       "      <th></th>\n",
       "      <th>01-A-x</th>\n",
       "      <th>01-A-y</th>\n",
       "      <th>01-A-z</th>\n",
       "      <th>02-A-x</th>\n",
       "      <th>02-A-y</th>\n",
       "      <th>02-A-z</th>\n",
       "      <th>05-A-x</th>\n",
       "      <th>05-A-y</th>\n",
       "      <th>05-A-z</th>\n",
       "      <th>16-A-x</th>\n",
       "      <th>...</th>\n",
       "      <th>18-A-z</th>\n",
       "      <th>19-A-x</th>\n",
       "      <th>19-A-y</th>\n",
       "      <th>19-A-z</th>\n",
       "      <th>20-A-x</th>\n",
       "      <th>20-A-y</th>\n",
       "      <th>20-A-z</th>\n",
       "      <th>21-A-x</th>\n",
       "      <th>21-A-y</th>\n",
       "      <th>21-A-z</th>\n",
       "    </tr>\n",
       "  </thead>\n",
       "  <tbody>\n",
       "    <tr>\n",
       "      <th>0</th>\n",
       "      <td>-0.960616</td>\n",
       "      <td>-0.089710</td>\n",
       "      <td>0.277496</td>\n",
       "      <td>-0.996754</td>\n",
       "      <td>0.070003</td>\n",
       "      <td>-0.090061</td>\n",
       "      <td>-0.977565</td>\n",
       "      <td>-0.147152</td>\n",
       "      <td>-0.145066</td>\n",
       "      <td>-0.913982</td>\n",
       "      <td>...</td>\n",
       "      <td>0.132578</td>\n",
       "      <td>-0.992946</td>\n",
       "      <td>-0.066023</td>\n",
       "      <td>0.132578</td>\n",
       "      <td>-0.992946</td>\n",
       "      <td>-0.066023</td>\n",
       "      <td>0.132578</td>\n",
       "      <td>-0.960616</td>\n",
       "      <td>-0.089710</td>\n",
       "      <td>0.277496</td>\n",
       "    </tr>\n",
       "    <tr>\n",
       "      <th>1</th>\n",
       "      <td>-0.962141</td>\n",
       "      <td>-0.089754</td>\n",
       "      <td>0.276427</td>\n",
       "      <td>-0.994816</td>\n",
       "      <td>0.060320</td>\n",
       "      <td>-0.087465</td>\n",
       "      <td>-0.981829</td>\n",
       "      <td>-0.154425</td>\n",
       "      <td>-0.151586</td>\n",
       "      <td>-0.914130</td>\n",
       "      <td>...</td>\n",
       "      <td>0.132860</td>\n",
       "      <td>-0.996814</td>\n",
       "      <td>-0.066792</td>\n",
       "      <td>0.132860</td>\n",
       "      <td>-0.996814</td>\n",
       "      <td>-0.066792</td>\n",
       "      <td>0.132860</td>\n",
       "      <td>-0.962141</td>\n",
       "      <td>-0.089754</td>\n",
       "      <td>0.276427</td>\n",
       "    </tr>\n",
       "    <tr>\n",
       "      <th>2</th>\n",
       "      <td>-0.965134</td>\n",
       "      <td>-0.090079</td>\n",
       "      <td>0.271490</td>\n",
       "      <td>-0.991661</td>\n",
       "      <td>0.058296</td>\n",
       "      <td>-0.081049</td>\n",
       "      <td>-0.986060</td>\n",
       "      <td>-0.155575</td>\n",
       "      <td>-0.155690</td>\n",
       "      <td>-0.914097</td>\n",
       "      <td>...</td>\n",
       "      <td>0.132784</td>\n",
       "      <td>-0.995054</td>\n",
       "      <td>-0.065022</td>\n",
       "      <td>0.132784</td>\n",
       "      <td>-0.995054</td>\n",
       "      <td>-0.065022</td>\n",
       "      <td>0.132784</td>\n",
       "      <td>-0.965134</td>\n",
       "      <td>-0.090079</td>\n",
       "      <td>0.271490</td>\n",
       "    </tr>\n",
       "    <tr>\n",
       "      <th>3</th>\n",
       "      <td>-0.965010</td>\n",
       "      <td>-0.088530</td>\n",
       "      <td>0.270270</td>\n",
       "      <td>-0.992872</td>\n",
       "      <td>0.059233</td>\n",
       "      <td>-0.082589</td>\n",
       "      <td>-0.988260</td>\n",
       "      <td>-0.150429</td>\n",
       "      <td>-0.151893</td>\n",
       "      <td>-0.914079</td>\n",
       "      <td>...</td>\n",
       "      <td>0.132804</td>\n",
       "      <td>-0.990305</td>\n",
       "      <td>-0.062469</td>\n",
       "      <td>0.132804</td>\n",
       "      <td>-0.990305</td>\n",
       "      <td>-0.062469</td>\n",
       "      <td>0.132804</td>\n",
       "      <td>-0.965010</td>\n",
       "      <td>-0.088530</td>\n",
       "      <td>0.270270</td>\n",
       "    </tr>\n",
       "    <tr>\n",
       "      <th>4</th>\n",
       "      <td>-0.963410</td>\n",
       "      <td>-0.085397</td>\n",
       "      <td>0.274920</td>\n",
       "      <td>-0.989629</td>\n",
       "      <td>0.055948</td>\n",
       "      <td>-0.080382</td>\n",
       "      <td>-0.989837</td>\n",
       "      <td>-0.148419</td>\n",
       "      <td>-0.151436</td>\n",
       "      <td>-0.914187</td>\n",
       "      <td>...</td>\n",
       "      <td>0.132799</td>\n",
       "      <td>-0.989008</td>\n",
       "      <td>-0.060965</td>\n",
       "      <td>0.132799</td>\n",
       "      <td>-0.989008</td>\n",
       "      <td>-0.060965</td>\n",
       "      <td>0.132799</td>\n",
       "      <td>-0.963410</td>\n",
       "      <td>-0.085397</td>\n",
       "      <td>0.274920</td>\n",
       "    </tr>\n",
       "    <tr>\n",
       "      <th>...</th>\n",
       "      <td>...</td>\n",
       "      <td>...</td>\n",
       "      <td>...</td>\n",
       "      <td>...</td>\n",
       "      <td>...</td>\n",
       "      <td>...</td>\n",
       "      <td>...</td>\n",
       "      <td>...</td>\n",
       "      <td>...</td>\n",
       "      <td>...</td>\n",
       "      <td>...</td>\n",
       "      <td>...</td>\n",
       "      <td>...</td>\n",
       "      <td>...</td>\n",
       "      <td>...</td>\n",
       "      <td>...</td>\n",
       "      <td>...</td>\n",
       "      <td>...</td>\n",
       "      <td>...</td>\n",
       "      <td>...</td>\n",
       "      <td>...</td>\n",
       "    </tr>\n",
       "    <tr>\n",
       "      <th>928</th>\n",
       "      <td>-0.992223</td>\n",
       "      <td>-0.163311</td>\n",
       "      <td>0.167966</td>\n",
       "      <td>-0.996126</td>\n",
       "      <td>0.050483</td>\n",
       "      <td>-0.093338</td>\n",
       "      <td>-0.979053</td>\n",
       "      <td>-0.172519</td>\n",
       "      <td>-0.178614</td>\n",
       "      <td>-0.918118</td>\n",
       "      <td>...</td>\n",
       "      <td>0.140944</td>\n",
       "      <td>-0.976928</td>\n",
       "      <td>-0.073884</td>\n",
       "      <td>0.140944</td>\n",
       "      <td>-0.976928</td>\n",
       "      <td>-0.073884</td>\n",
       "      <td>0.140944</td>\n",
       "      <td>-0.992223</td>\n",
       "      <td>-0.163311</td>\n",
       "      <td>0.167966</td>\n",
       "    </tr>\n",
       "    <tr>\n",
       "      <th>929</th>\n",
       "      <td>-0.992116</td>\n",
       "      <td>-0.164669</td>\n",
       "      <td>0.167819</td>\n",
       "      <td>-0.995709</td>\n",
       "      <td>0.050927</td>\n",
       "      <td>-0.087743</td>\n",
       "      <td>-0.971282</td>\n",
       "      <td>-0.176188</td>\n",
       "      <td>-0.174840</td>\n",
       "      <td>-0.918501</td>\n",
       "      <td>...</td>\n",
       "      <td>0.140116</td>\n",
       "      <td>-0.976380</td>\n",
       "      <td>-0.074487</td>\n",
       "      <td>0.140116</td>\n",
       "      <td>-0.976380</td>\n",
       "      <td>-0.074487</td>\n",
       "      <td>0.140116</td>\n",
       "      <td>-0.992116</td>\n",
       "      <td>-0.164669</td>\n",
       "      <td>0.167819</td>\n",
       "    </tr>\n",
       "    <tr>\n",
       "      <th>930</th>\n",
       "      <td>-0.992525</td>\n",
       "      <td>-0.162472</td>\n",
       "      <td>0.168839</td>\n",
       "      <td>-0.990409</td>\n",
       "      <td>0.050611</td>\n",
       "      <td>-0.082297</td>\n",
       "      <td>-0.968614</td>\n",
       "      <td>-0.175694</td>\n",
       "      <td>-0.171589</td>\n",
       "      <td>-0.923032</td>\n",
       "      <td>...</td>\n",
       "      <td>0.142348</td>\n",
       "      <td>-0.977215</td>\n",
       "      <td>-0.073293</td>\n",
       "      <td>0.142348</td>\n",
       "      <td>-0.977215</td>\n",
       "      <td>-0.073293</td>\n",
       "      <td>0.142348</td>\n",
       "      <td>-0.992525</td>\n",
       "      <td>-0.162472</td>\n",
       "      <td>0.168839</td>\n",
       "    </tr>\n",
       "    <tr>\n",
       "      <th>931</th>\n",
       "      <td>-0.990828</td>\n",
       "      <td>-0.155550</td>\n",
       "      <td>0.172032</td>\n",
       "      <td>-0.983124</td>\n",
       "      <td>0.051508</td>\n",
       "      <td>-0.085769</td>\n",
       "      <td>-0.968850</td>\n",
       "      <td>-0.175829</td>\n",
       "      <td>-0.171984</td>\n",
       "      <td>-0.926215</td>\n",
       "      <td>...</td>\n",
       "      <td>0.148446</td>\n",
       "      <td>-0.981658</td>\n",
       "      <td>-0.070337</td>\n",
       "      <td>0.148446</td>\n",
       "      <td>-0.981658</td>\n",
       "      <td>-0.070337</td>\n",
       "      <td>0.148446</td>\n",
       "      <td>-0.990828</td>\n",
       "      <td>-0.155550</td>\n",
       "      <td>0.172032</td>\n",
       "    </tr>\n",
       "    <tr>\n",
       "      <th>932</th>\n",
       "      <td>-0.982565</td>\n",
       "      <td>-0.148674</td>\n",
       "      <td>0.172808</td>\n",
       "      <td>-0.979506</td>\n",
       "      <td>0.055585</td>\n",
       "      <td>-0.080885</td>\n",
       "      <td>-0.968787</td>\n",
       "      <td>-0.175790</td>\n",
       "      <td>-0.171880</td>\n",
       "      <td>-0.925098</td>\n",
       "      <td>...</td>\n",
       "      <td>0.143396</td>\n",
       "      <td>-0.984786</td>\n",
       "      <td>-0.068702</td>\n",
       "      <td>0.143396</td>\n",
       "      <td>-0.984786</td>\n",
       "      <td>-0.068702</td>\n",
       "      <td>0.143396</td>\n",
       "      <td>-0.982565</td>\n",
       "      <td>-0.148674</td>\n",
       "      <td>0.172808</td>\n",
       "    </tr>\n",
       "  </tbody>\n",
       "</table>\n",
       "<p>933 rows × 27 columns</p>\n",
       "</div>"
      ],
      "text/plain": [
       "       01-A-x    01-A-y    01-A-z    02-A-x    02-A-y    02-A-z    05-A-x  \\\n",
       "0   -0.960616 -0.089710  0.277496 -0.996754  0.070003 -0.090061 -0.977565   \n",
       "1   -0.962141 -0.089754  0.276427 -0.994816  0.060320 -0.087465 -0.981829   \n",
       "2   -0.965134 -0.090079  0.271490 -0.991661  0.058296 -0.081049 -0.986060   \n",
       "3   -0.965010 -0.088530  0.270270 -0.992872  0.059233 -0.082589 -0.988260   \n",
       "4   -0.963410 -0.085397  0.274920 -0.989629  0.055948 -0.080382 -0.989837   \n",
       "..        ...       ...       ...       ...       ...       ...       ...   \n",
       "928 -0.992223 -0.163311  0.167966 -0.996126  0.050483 -0.093338 -0.979053   \n",
       "929 -0.992116 -0.164669  0.167819 -0.995709  0.050927 -0.087743 -0.971282   \n",
       "930 -0.992525 -0.162472  0.168839 -0.990409  0.050611 -0.082297 -0.968614   \n",
       "931 -0.990828 -0.155550  0.172032 -0.983124  0.051508 -0.085769 -0.968850   \n",
       "932 -0.982565 -0.148674  0.172808 -0.979506  0.055585 -0.080885 -0.968787   \n",
       "\n",
       "       05-A-y    05-A-z    16-A-x  ...    18-A-z    19-A-x    19-A-y  \\\n",
       "0   -0.147152 -0.145066 -0.913982  ...  0.132578 -0.992946 -0.066023   \n",
       "1   -0.154425 -0.151586 -0.914130  ...  0.132860 -0.996814 -0.066792   \n",
       "2   -0.155575 -0.155690 -0.914097  ...  0.132784 -0.995054 -0.065022   \n",
       "3   -0.150429 -0.151893 -0.914079  ...  0.132804 -0.990305 -0.062469   \n",
       "4   -0.148419 -0.151436 -0.914187  ...  0.132799 -0.989008 -0.060965   \n",
       "..        ...       ...       ...  ...       ...       ...       ...   \n",
       "928 -0.172519 -0.178614 -0.918118  ...  0.140944 -0.976928 -0.073884   \n",
       "929 -0.176188 -0.174840 -0.918501  ...  0.140116 -0.976380 -0.074487   \n",
       "930 -0.175694 -0.171589 -0.923032  ...  0.142348 -0.977215 -0.073293   \n",
       "931 -0.175829 -0.171984 -0.926215  ...  0.148446 -0.981658 -0.070337   \n",
       "932 -0.175790 -0.171880 -0.925098  ...  0.143396 -0.984786 -0.068702   \n",
       "\n",
       "       19-A-z    20-A-x    20-A-y    20-A-z    21-A-x    21-A-y    21-A-z  \n",
       "0    0.132578 -0.992946 -0.066023  0.132578 -0.960616 -0.089710  0.277496  \n",
       "1    0.132860 -0.996814 -0.066792  0.132860 -0.962141 -0.089754  0.276427  \n",
       "2    0.132784 -0.995054 -0.065022  0.132784 -0.965134 -0.090079  0.271490  \n",
       "3    0.132804 -0.990305 -0.062469  0.132804 -0.965010 -0.088530  0.270270  \n",
       "4    0.132799 -0.989008 -0.060965  0.132799 -0.963410 -0.085397  0.274920  \n",
       "..        ...       ...       ...       ...       ...       ...       ...  \n",
       "928  0.140944 -0.976928 -0.073884  0.140944 -0.992223 -0.163311  0.167966  \n",
       "929  0.140116 -0.976380 -0.074487  0.140116 -0.992116 -0.164669  0.167819  \n",
       "930  0.142348 -0.977215 -0.073293  0.142348 -0.992525 -0.162472  0.168839  \n",
       "931  0.148446 -0.981658 -0.070337  0.148446 -0.990828 -0.155550  0.172032  \n",
       "932  0.143396 -0.984786 -0.068702  0.143396 -0.982565 -0.148674  0.172808  \n",
       "\n",
       "[933 rows x 27 columns]"
      ]
     },
     "execution_count": 25,
     "metadata": {},
     "output_type": "execute_result"
    }
   ],
   "source": [
    "pd.read_csv('/Users/User/OneDrive/TCC/ema_motion_analysis_imu/data/'+ name_description +'_Sit_and_Stand.csv', \n",
    "            sep = ';')"
   ]
  },
  {
   "cell_type": "code",
   "execution_count": null,
   "metadata": {},
   "outputs": [],
   "source": []
  }
 ],
 "metadata": {
  "kernelspec": {
   "display_name": "Python 3",
   "language": "python",
   "name": "python3"
  },
  "language_info": {
   "codemirror_mode": {
    "name": "ipython",
    "version": 3
   },
   "file_extension": ".py",
   "mimetype": "text/x-python",
   "name": "python",
   "nbconvert_exporter": "python",
   "pygments_lexer": "ipython3",
   "version": "3.9.1"
  }
 },
 "nbformat": 4,
 "nbformat_minor": 4
}
