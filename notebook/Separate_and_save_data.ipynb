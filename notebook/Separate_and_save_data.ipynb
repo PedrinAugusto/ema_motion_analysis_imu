{
 "cells": [
  {
   "cell_type": "code",
   "execution_count": 1,
   "metadata": {
    "Collapsed": "false"
   },
   "outputs": [],
   "source": [
    "import os\n",
    "import collections\n",
    "import re\n",
    "import cv2\n",
    "\n",
    "import numpy as np\n",
    "import pandas as pd\n",
    "import math\n",
    "import matplotlib.pyplot as plt\n",
    "import scipy.io as sio\n",
    "from pathlib import Path\n",
    "\n",
    "import sys\n",
    "sys.path.append(\"../src\")\n",
    "#importlib.reload(data_conversions)\n",
    "from conversion_mat_to_py import mat2dict, pretty_dict, matobj2dict, dict2ntuple\n",
    "from sources_cv2 import defineStartEnd, count_frames\n",
    "from save_datas import save_data\n",
    "from data_conversions import acc_to_angle\n"
   ]
  },
  {
   "cell_type": "code",
   "execution_count": 2,
   "metadata": {},
   "outputs": [],
   "source": [
    "def SaveStartEnd(new_start_end, name_description):\n",
    "    \n",
    "    '''Dados do início e fim do movimento de sentar e levantar'''\n",
    "    '''Entrada: DataFrame com dados de início e fim da IMU e do frame correspondente'''\n",
    "    \n",
    "    caminho = '/Users/User/OneDrive/TCC/ema_motion_analysis_imu/data/'\n",
    "    arquivo = 'Start_End_Sit_and_Stand.csv'\n",
    "    \n",
    "    start_end = pd.read_csv(caminho + arquivo, sep = ';')\n",
    "    \n",
    "    try:\n",
    "        start_end.loc[:,[name_description]]\n",
    "        start_end.loc[:,[name_description]] = new_start_end[[name_description]]\n",
    "        print('Dados Atualizados')\n",
    "    except KeyError:\n",
    "        start_end = pd.merge(start_end, new_start_end, on = 'Description')\n",
    "        print('Dados Adicionados')\n",
    "    \n",
    "    start_end.to_csv(caminho + arquivo, sep = ';', index = False)"
   ]
  },
  {
   "cell_type": "code",
   "execution_count": 3,
   "metadata": {
    "Collapsed": "false"
   },
   "outputs": [],
   "source": [
    "# Caminho onde estão os dados .mat\n",
    "caminho = '/Users/User/OneDrive/TCC/MoVi/IMUmatlab_Subject/'\n"
   ]
  },
  {
   "cell_type": "markdown",
   "metadata": {},
   "source": [
    "### -> Escolher o voluntário"
   ]
  },
  {
   "cell_type": "code",
   "execution_count": 5,
   "metadata": {},
   "outputs": [],
   "source": [
    "\n",
    "# Número do arquivo do voluntário, alterar apenas o número\n",
    "\n",
    "''' Alterar o número do sujeito analisado'''\n",
    "\n",
    "voluntary = 1\n"
   ]
  },
  {
   "cell_type": "code",
   "execution_count": 6,
   "metadata": {},
   "outputs": [],
   "source": [
    "voluntary = str(voluntary)\n",
    "imu_filename = caminho + 'imu_Subject_' + voluntary + '.mat'"
   ]
  },
  {
   "cell_type": "code",
   "execution_count": 7,
   "metadata": {},
   "outputs": [
    {
     "name": "stdout",
     "output_type": "stream",
     "text": [
      "\tKey: S1_Synched\n",
      "\t\tKey: originalFile\n",
      "\t\tKey: description\n",
      "\t\tKey: jointNumbers\n",
      "\t\tKey: jointNames\n",
      "\t\tKey: dataTypes\n",
      "\t\tKey: dataTypesDescription\n",
      "\t\tKey: dataHeader\n",
      "\t\tKey: data\n",
      "\t\tKey: delay\n",
      "\t\tKey: scale\n",
      "\tKey: S2_Synched\n",
      "\t\tKey: originalFile\n",
      "\t\tKey: description\n",
      "\t\tKey: jointNumbers\n",
      "\t\tKey: jointNames\n",
      "\t\tKey: dataTypes\n",
      "\t\tKey: dataTypesDescription\n",
      "\t\tKey: dataHeader\n",
      "\t\tKey: data\n",
      "\t\tKey: delay\n",
      "\t\tKey: scale\n",
      "\tKey: I1\n",
      "\t\tKey: originalFile\n",
      "\t\tKey: description\n",
      "\t\tKey: jointNumbers\n",
      "\t\tKey: jointNames\n",
      "\t\tKey: dataTypes\n",
      "\t\tKey: dataTypesDescription\n",
      "\t\tKey: dataHeader\n",
      "\t\tKey: data\n",
      "\tKey: I2\n",
      "\t\tKey: originalFile\n",
      "\t\tKey: description\n",
      "\t\tKey: jointNumbers\n",
      "\t\tKey: jointNames\n",
      "\t\tKey: dataTypes\n",
      "\t\tKey: dataTypesDescription\n",
      "\t\tKey: dataHeader\n",
      "\t\tKey: data\n",
      "\tKey: S1\n",
      "\t\tKey: originalFile\n",
      "\t\tKey: description\n",
      "\t\tKey: jointNumbers\n",
      "\t\tKey: jointNames\n",
      "\t\tKey: dataTypes\n",
      "\t\tKey: dataTypesDescription\n",
      "\t\tKey: dataHeader\n",
      "\t\tKey: data\n",
      "\tKey: S2\n",
      "\t\tKey: originalFile\n",
      "\t\tKey: description\n",
      "\t\tKey: jointNumbers\n",
      "\t\tKey: jointNames\n",
      "\t\tKey: dataTypes\n",
      "\t\tKey: dataTypesDescription\n",
      "\t\tKey: dataHeader\n",
      "\t\tKey: data\n"
     ]
    }
   ],
   "source": [
    "\n",
    "# Reading MoVi files as a Python dictionary\n",
    "sample = mat2dict(imu_filename)\n",
    "pretty_dict(sample, print_type=False, indent=1)"
   ]
  },
  {
   "cell_type": "markdown",
   "metadata": {},
   "source": [
    "# -> Escolher chave!!!"
   ]
  },
  {
   "cell_type": "code",
   "execution_count": 8,
   "metadata": {
    "Collapsed": "false"
   },
   "outputs": [],
   "source": [
    "\n",
    "''' Escolher a chave na qual os dados serão utiliados'''\n",
    "''' S1 possui a pose em pé entre os movimentos'''\n",
    "\n",
    "key = 'S1_Synched'\n"
   ]
  },
  {
   "cell_type": "code",
   "execution_count": 9,
   "metadata": {},
   "outputs": [],
   "source": [
    "Data = sample[key]['data']\n",
    "name_description = sample[key]['description']\n",
    "data_complete = pd.DataFrame(Data)"
   ]
  },
  {
   "cell_type": "code",
   "execution_count": 10,
   "metadata": {},
   "outputs": [
    {
     "name": "stdout",
     "output_type": "stream",
     "text": [
      "\tKey: __header__\n",
      "\tKey: __version__\n",
      "\tKey: __globals__\n",
      "\tKey: None\n",
      "\tKey: __function_workspace__\n"
     ]
    }
   ],
   "source": [
    "dataHeader_filename = caminho + 'dataHeader.mat'\n",
    "dataHeader = sio.loadmat(dataHeader_filename)\n",
    "pretty_dict(dataHeader, print_type=False, indent=1)\n",
    "\n",
    "header = pd.read_csv(caminho + 'columns.csv', sep=';')\n",
    "header = header[:].values.tolist()\n",
    "\n",
    "#Transformar os dados em um data frame para facilitar a visualização\n",
    "data = pd.DataFrame(Data, columns=header)"
   ]
  },
  {
   "cell_type": "markdown",
   "metadata": {},
   "source": [
    "## Separando apenas os dados do movimento de sentar e levantar\n",
    "\n",
    "Verificar os dados de acordo com os vídeos.\n",
    "\n"
   ]
  },
  {
   "cell_type": "code",
   "execution_count": 11,
   "metadata": {},
   "outputs": [],
   "source": [
    "video_path = '/Users/User/OneDrive/TCC/MoVi/Videos/'\n",
    "\n",
    "if key == 'S1_Synched' or key == 'S1':\n",
    "    video_S = 'S1'\n",
    "    \n",
    "elif key == 'S2_Synched' or key == 'S2':\n",
    "    video_S = 'S2'\n",
    "\n",
    "else:\n",
    "    print('Não possui vídeo correspondente a esses dados')\n"
   ]
  },
  {
   "cell_type": "code",
   "execution_count": 12,
   "metadata": {},
   "outputs": [],
   "source": [
    "video_name = video_path + video_S + '_PG1_Subject_' + voluntary + '_L.avi'\n",
    "\n",
    "\n",
    "# Frequencia dos dados\n",
    "\n",
    "freq_IMU = 120\n",
    "\n",
    "n_frames, fps = count_frames(video_name)"
   ]
  },
  {
   "cell_type": "markdown",
   "metadata": {},
   "source": [
    "# -> Escolher o tempo de início aproximado para o movimento de sentar e levantar"
   ]
  },
  {
   "cell_type": "code",
   "execution_count": 13,
   "metadata": {},
   "outputs": [
    {
     "name": "stdout",
     "output_type": "stream",
     "text": [
      "Utilizar o vídeo com o seguinte nome:  S1_PG1_Subject_1_L.avi\n"
     ]
    }
   ],
   "source": [
    "print('Utilizar o vídeo com o seguinte nome: ', video_S + '_PG1_Subject_' + voluntary + '_L.avi' )"
   ]
  },
  {
   "cell_type": "code",
   "execution_count": 14,
   "metadata": {},
   "outputs": [],
   "source": [
    "\n",
    "'''Alterar o tempo de início aproximado do movimento de sentar e levantar'''\n",
    "\n",
    "# alterar o minuto do vídeo para o movimento de sentar\n",
    "min_init_video = 1\n",
    "# alterar o segundo do vídeo para o movimento de sentar\n",
    "seg_init_video = 37\n",
    "\n",
    "\n",
    "aprox_init_video = int(((min_init_video * 60) + seg_init_video) * fps)"
   ]
  },
  {
   "cell_type": "code",
   "execution_count": 15,
   "metadata": {},
   "outputs": [],
   "source": [
    "start_end = defineStartEnd(video_name, n_frames, aprox_init_video)"
   ]
  },
  {
   "cell_type": "code",
   "execution_count": 81,
   "metadata": {},
   "outputs": [
    {
     "data": {
      "text/plain": [
       "973"
      ]
     },
     "execution_count": 81,
     "metadata": {},
     "output_type": "execute_result"
    }
   ],
   "source": [
    "# frame de início e final do movimento de sentar e levantar\n",
    "frame_start = start_end[0]\n",
    "frame_end = start_end[1]\n",
    "\n",
    "# converter o frame do vídeo do início do movimento de sentar para o dado de IMU correspondente \n",
    "temp_start = frame_start / fps\n",
    "IMU_start = int(temp_start * freq_IMU)\n",
    "\n",
    "# converter o frame do vídeo do final do movimento de levantar para o dado de IMU correspondente \n",
    "temp_end = frame_end / fps\n",
    "IMU_end = int(temp_end * freq_IMU)\n",
    "\n",
    "# criando os dados apenas com as informações de sentar e levantar\n",
    "data_sit_to_stand = data.iloc[IMU_start:IMU_end + 1,:]\n",
    "len(data_sit_to_stand)"
   ]
  },
  {
   "cell_type": "code",
   "execution_count": 82,
   "metadata": {},
   "outputs": [],
   "source": [
    "# Criar DataFrame com os valores das amostras e frames de início e fim\n",
    "x = [[IMU_start],[IMU_end],[frame_start],[frame_end]]\n",
    "new_start_end = pd.DataFrame(x, columns = [name_description] )\n",
    "\n",
    "# Criar DataFrame com os nomes das amostras e frames de início e fim\n",
    "infos = np.array([['IMU_start'],['IMU_end'],['frame_start'],['frame_end']])\n",
    "new_start_end_2 = pd.DataFrame(infos, columns = ['Description'])\n",
    "\n",
    "# Criar DataFrame com os nomes e valores das amotras e frames de início e fim\n",
    "new_start_end = pd.concat((new_start_end_2, new_start_end), axis = 1)\n",
    "\n"
   ]
  },
  {
   "cell_type": "markdown",
   "metadata": {},
   "source": [
    "## Separar apenas os dados de aceleração dos sensores da coxa e os do tronco\n",
    "\n",
    "Para utilizar os dados de aceleração do pescoço e das pernas, utilizaremos os dados do:\n",
    "* sensor 1 [10:13], 16 [250:253], 17 [266:269], 18 [282:285], 19 [298:301], 20 [314:317], 21 [330:333] -> quadril, cabeça, pescoço, tronco 3 2 1;\n",
    "* sensor 2 [26:29] -> coxa direita;\n",
    "* sensor 5 [74:77] -> coxa esquerda. \n",
    "\n"
   ]
  },
  {
   "cell_type": "code",
   "execution_count": 83,
   "metadata": {},
   "outputs": [],
   "source": [
    "# Criando os dados apenas com os sensores desejados e dados de aceleração\n",
    "data_set = pd.concat((data_sit_to_stand.iloc[:,10:13], data_sit_to_stand.iloc[:,26:29], data_sit_to_stand.iloc[:,74:77], \n",
    "                      data_sit_to_stand.iloc[:,250:253],data_sit_to_stand.iloc[:,266:269], data_sit_to_stand.iloc[:,282:285], \n",
    "                      data_sit_to_stand.iloc[:,298:301], data_sit_to_stand.iloc[:,314:317], data_sit_to_stand.iloc[:,330:333]),\n",
    "                     axis=1)"
   ]
  },
  {
   "cell_type": "markdown",
   "metadata": {},
   "source": [
    "### Prévia dos dados"
   ]
  },
  {
   "cell_type": "code",
   "execution_count": 84,
   "metadata": {},
   "outputs": [],
   "source": [
    "data_18_A = data_set.iloc[:,15:18].values\n",
    "data_5_A = data_set.iloc[:,6:9].values\n",
    "data_21_A = data_set.iloc[:,24:27].values"
   ]
  },
  {
   "cell_type": "code",
   "execution_count": 85,
   "metadata": {},
   "outputs": [],
   "source": [
    "angle_rad_neck, angle_neck = acc_to_angle(data_18_A)\n",
    "angle_rad_right_up_leg, angle_right_up_leg = acc_to_angle(data_5_A)\n",
    "angle_rad_trunk, angle_trunk = acc_to_angle(data_21_A)"
   ]
  },
  {
   "cell_type": "code",
   "execution_count": 86,
   "metadata": {},
   "outputs": [
    {
     "data": {
      "text/plain": [
       "[<matplotlib.lines.Line2D at 0x2c480910940>]"
      ]
     },
     "execution_count": 86,
     "metadata": {},
     "output_type": "execute_result"
    },
    {
     "data": {
      "image/png": "[encoded data removed]",
      "text/plain": [
       "<Figure size 432x288 with 3 Axes>"
      ]
     },
     "metadata": {
      "needs_background": "light"
     },
     "output_type": "display_data"
    }
   ],
   "source": [
    "fig, axs = plt.subplots(3, sharex=True, sharey=True)\n",
    "\n",
    "axs[0].plot(angle_rad_neck)\n",
    "axs[1].plot(angle_rad_right_up_leg)\n",
    "axs[2].plot(angle_rad_trunk)"
   ]
  },
  {
   "cell_type": "code",
   "execution_count": 87,
   "metadata": {},
   "outputs": [
    {
     "data": {
      "image/png": "[encoded data removed]",
      "text/plain": [
       "<Figure size 432x288 with 1 Axes>"
      ]
     },
     "metadata": {
      "needs_background": "light"
     },
     "output_type": "display_data"
    }
   ],
   "source": [
    "plt.subplot(111)\n",
    "\n",
    "plt.plot(angle_neck, label = 'Neck')\n",
    "plt.plot(angle_right_up_leg, label = 'Up Leg')\n",
    "plt.plot(angle_trunk, label = 'Trunk')\n",
    "\n",
    "plt.legend()\n",
    "\n",
    "plt.grid()\n",
    "plt.show()"
   ]
  },
  {
   "cell_type": "markdown",
   "metadata": {},
   "source": [
    "### Salvar os dados"
   ]
  },
  {
   "cell_type": "code",
   "execution_count": 88,
   "metadata": {},
   "outputs": [
    {
     "name": "stdout",
     "output_type": "stream",
     "text": [
      "Dados Adicionados\n"
     ]
    }
   ],
   "source": [
    "# Salvar dados das IMUs referentes ao movimento de sentar e levantar\n",
    "save_data(data_set, key, name_description)\n",
    "# Salvar os dados das amostras e frames de início e fim \n",
    "SaveStartEnd(new_start_end, name_description)"
   ]
  },
  {
   "cell_type": "code",
   "execution_count": 89,
   "metadata": {},
   "outputs": [
    {
     "data": {
      "text/html": [
       "<div>\n",
       "<style scoped>\n",
       "    .dataframe tbody tr th:only-of-type {\n",
       "        vertical-align: middle;\n",
       "    }\n",
       "\n",
       "    .dataframe tbody tr th {\n",
       "        vertical-align: top;\n",
       "    }\n",
       "\n",
       "    .dataframe thead th {\n",
       "        text-align: right;\n",
       "    }\n",
       "</style>\n",
       "<table border=\"1\" class=\"dataframe\">\n",
       "  <thead>\n",
       "    <tr style=\"text-align: right;\">\n",
       "      <th></th>\n",
       "      <th>01-A-x</th>\n",
       "      <th>01-A-y</th>\n",
       "      <th>01-A-z</th>\n",
       "      <th>02-A-x</th>\n",
       "      <th>02-A-y</th>\n",
       "      <th>02-A-z</th>\n",
       "      <th>05-A-x</th>\n",
       "      <th>05-A-y</th>\n",
       "      <th>05-A-z</th>\n",
       "      <th>16-A-x</th>\n",
       "      <th>...</th>\n",
       "      <th>18-A-z</th>\n",
       "      <th>19-A-x</th>\n",
       "      <th>19-A-y</th>\n",
       "      <th>19-A-z</th>\n",
       "      <th>20-A-x</th>\n",
       "      <th>20-A-y</th>\n",
       "      <th>20-A-z</th>\n",
       "      <th>21-A-x</th>\n",
       "      <th>21-A-y</th>\n",
       "      <th>21-A-z</th>\n",
       "    </tr>\n",
       "  </thead>\n",
       "  <tbody>\n",
       "    <tr>\n",
       "      <th>0</th>\n",
       "      <td>-0.973748</td>\n",
       "      <td>-0.017693</td>\n",
       "      <td>0.243302</td>\n",
       "      <td>-0.994793</td>\n",
       "      <td>-0.098765</td>\n",
       "      <td>-0.140075</td>\n",
       "      <td>-0.976662</td>\n",
       "      <td>0.159015</td>\n",
       "      <td>-0.187437</td>\n",
       "      <td>-0.850570</td>\n",
       "      <td>...</td>\n",
       "      <td>0.244775</td>\n",
       "      <td>-0.991156</td>\n",
       "      <td>-0.027013</td>\n",
       "      <td>0.244775</td>\n",
       "      <td>-0.991156</td>\n",
       "      <td>-0.027013</td>\n",
       "      <td>0.244775</td>\n",
       "      <td>-0.973748</td>\n",
       "      <td>-0.017693</td>\n",
       "      <td>0.243302</td>\n",
       "    </tr>\n",
       "    <tr>\n",
       "      <th>1</th>\n",
       "      <td>-0.981824</td>\n",
       "      <td>-0.013248</td>\n",
       "      <td>0.242233</td>\n",
       "      <td>-1.006001</td>\n",
       "      <td>-0.092489</td>\n",
       "      <td>-0.150177</td>\n",
       "      <td>-0.963702</td>\n",
       "      <td>0.165809</td>\n",
       "      <td>-0.187085</td>\n",
       "      <td>-0.851816</td>\n",
       "      <td>...</td>\n",
       "      <td>0.248089</td>\n",
       "      <td>-0.985464</td>\n",
       "      <td>-0.027270</td>\n",
       "      <td>0.248089</td>\n",
       "      <td>-0.985464</td>\n",
       "      <td>-0.027270</td>\n",
       "      <td>0.248089</td>\n",
       "      <td>-0.981824</td>\n",
       "      <td>-0.013248</td>\n",
       "      <td>0.242233</td>\n",
       "    </tr>\n",
       "    <tr>\n",
       "      <th>2</th>\n",
       "      <td>-0.989442</td>\n",
       "      <td>-0.006489</td>\n",
       "      <td>0.239989</td>\n",
       "      <td>-1.010699</td>\n",
       "      <td>-0.087015</td>\n",
       "      <td>-0.155761</td>\n",
       "      <td>-0.962521</td>\n",
       "      <td>0.167714</td>\n",
       "      <td>-0.190221</td>\n",
       "      <td>-0.851575</td>\n",
       "      <td>...</td>\n",
       "      <td>0.256072</td>\n",
       "      <td>-0.981547</td>\n",
       "      <td>-0.027695</td>\n",
       "      <td>0.256072</td>\n",
       "      <td>-0.981547</td>\n",
       "      <td>-0.027695</td>\n",
       "      <td>0.256072</td>\n",
       "      <td>-0.989442</td>\n",
       "      <td>-0.006489</td>\n",
       "      <td>0.239989</td>\n",
       "    </tr>\n",
       "    <tr>\n",
       "      <th>3</th>\n",
       "      <td>-0.998160</td>\n",
       "      <td>-0.000679</td>\n",
       "      <td>0.235152</td>\n",
       "      <td>-1.012300</td>\n",
       "      <td>-0.082766</td>\n",
       "      <td>-0.155256</td>\n",
       "      <td>-0.968031</td>\n",
       "      <td>0.173407</td>\n",
       "      <td>-0.191665</td>\n",
       "      <td>-0.851491</td>\n",
       "      <td>...</td>\n",
       "      <td>0.255501</td>\n",
       "      <td>-0.980279</td>\n",
       "      <td>-0.024533</td>\n",
       "      <td>0.255501</td>\n",
       "      <td>-0.980279</td>\n",
       "      <td>-0.024533</td>\n",
       "      <td>0.255501</td>\n",
       "      <td>-0.998160</td>\n",
       "      <td>-0.000679</td>\n",
       "      <td>0.235152</td>\n",
       "    </tr>\n",
       "    <tr>\n",
       "      <th>4</th>\n",
       "      <td>-1.000396</td>\n",
       "      <td>0.000273</td>\n",
       "      <td>0.234569</td>\n",
       "      <td>-1.007588</td>\n",
       "      <td>-0.083945</td>\n",
       "      <td>-0.164660</td>\n",
       "      <td>-0.969147</td>\n",
       "      <td>0.176280</td>\n",
       "      <td>-0.191351</td>\n",
       "      <td>-0.852056</td>\n",
       "      <td>...</td>\n",
       "      <td>0.253590</td>\n",
       "      <td>-0.980503</td>\n",
       "      <td>-0.023168</td>\n",
       "      <td>0.253590</td>\n",
       "      <td>-0.980503</td>\n",
       "      <td>-0.023168</td>\n",
       "      <td>0.253590</td>\n",
       "      <td>-1.000396</td>\n",
       "      <td>0.000273</td>\n",
       "      <td>0.234569</td>\n",
       "    </tr>\n",
       "    <tr>\n",
       "      <th>...</th>\n",
       "      <td>...</td>\n",
       "      <td>...</td>\n",
       "      <td>...</td>\n",
       "      <td>...</td>\n",
       "      <td>...</td>\n",
       "      <td>...</td>\n",
       "      <td>...</td>\n",
       "      <td>...</td>\n",
       "      <td>...</td>\n",
       "      <td>...</td>\n",
       "      <td>...</td>\n",
       "      <td>...</td>\n",
       "      <td>...</td>\n",
       "      <td>...</td>\n",
       "      <td>...</td>\n",
       "      <td>...</td>\n",
       "      <td>...</td>\n",
       "      <td>...</td>\n",
       "      <td>...</td>\n",
       "      <td>...</td>\n",
       "      <td>...</td>\n",
       "    </tr>\n",
       "    <tr>\n",
       "      <th>968</th>\n",
       "      <td>-1.085435</td>\n",
       "      <td>-0.067985</td>\n",
       "      <td>0.286137</td>\n",
       "      <td>-1.076597</td>\n",
       "      <td>0.082404</td>\n",
       "      <td>-0.193628</td>\n",
       "      <td>-1.067833</td>\n",
       "      <td>0.047421</td>\n",
       "      <td>-0.241498</td>\n",
       "      <td>-0.917643</td>\n",
       "      <td>...</td>\n",
       "      <td>0.215053</td>\n",
       "      <td>-1.052908</td>\n",
       "      <td>-0.060061</td>\n",
       "      <td>0.215053</td>\n",
       "      <td>-1.052908</td>\n",
       "      <td>-0.060061</td>\n",
       "      <td>0.215053</td>\n",
       "      <td>-1.085435</td>\n",
       "      <td>-0.067985</td>\n",
       "      <td>0.286137</td>\n",
       "    </tr>\n",
       "    <tr>\n",
       "      <th>969</th>\n",
       "      <td>-1.099892</td>\n",
       "      <td>-0.060721</td>\n",
       "      <td>0.304897</td>\n",
       "      <td>-1.106570</td>\n",
       "      <td>0.080794</td>\n",
       "      <td>-0.184264</td>\n",
       "      <td>-1.106451</td>\n",
       "      <td>0.076779</td>\n",
       "      <td>-0.241180</td>\n",
       "      <td>-0.913967</td>\n",
       "      <td>...</td>\n",
       "      <td>0.213845</td>\n",
       "      <td>-1.060515</td>\n",
       "      <td>-0.061563</td>\n",
       "      <td>0.213845</td>\n",
       "      <td>-1.060515</td>\n",
       "      <td>-0.061563</td>\n",
       "      <td>0.213845</td>\n",
       "      <td>-1.099892</td>\n",
       "      <td>-0.060721</td>\n",
       "      <td>0.304897</td>\n",
       "    </tr>\n",
       "    <tr>\n",
       "      <th>970</th>\n",
       "      <td>-1.094778</td>\n",
       "      <td>-0.057338</td>\n",
       "      <td>0.325333</td>\n",
       "      <td>-1.118630</td>\n",
       "      <td>0.077481</td>\n",
       "      <td>-0.178773</td>\n",
       "      <td>-1.114853</td>\n",
       "      <td>0.180097</td>\n",
       "      <td>-0.272709</td>\n",
       "      <td>-0.911861</td>\n",
       "      <td>...</td>\n",
       "      <td>0.209070</td>\n",
       "      <td>-1.053526</td>\n",
       "      <td>-0.048877</td>\n",
       "      <td>0.209070</td>\n",
       "      <td>-1.053526</td>\n",
       "      <td>-0.048877</td>\n",
       "      <td>0.209070</td>\n",
       "      <td>-1.094778</td>\n",
       "      <td>-0.057338</td>\n",
       "      <td>0.325333</td>\n",
       "    </tr>\n",
       "    <tr>\n",
       "      <th>971</th>\n",
       "      <td>-1.078245</td>\n",
       "      <td>-0.053341</td>\n",
       "      <td>0.346773</td>\n",
       "      <td>-1.116516</td>\n",
       "      <td>0.079017</td>\n",
       "      <td>-0.181111</td>\n",
       "      <td>-1.032180</td>\n",
       "      <td>0.317035</td>\n",
       "      <td>-0.310787</td>\n",
       "      <td>-0.904786</td>\n",
       "      <td>...</td>\n",
       "      <td>0.197352</td>\n",
       "      <td>-1.040362</td>\n",
       "      <td>-0.036744</td>\n",
       "      <td>0.197352</td>\n",
       "      <td>-1.040362</td>\n",
       "      <td>-0.036744</td>\n",
       "      <td>0.197352</td>\n",
       "      <td>-1.078245</td>\n",
       "      <td>-0.053341</td>\n",
       "      <td>0.346773</td>\n",
       "    </tr>\n",
       "    <tr>\n",
       "      <th>972</th>\n",
       "      <td>-1.043543</td>\n",
       "      <td>-0.049067</td>\n",
       "      <td>0.363210</td>\n",
       "      <td>-1.118532</td>\n",
       "      <td>0.074192</td>\n",
       "      <td>-0.173690</td>\n",
       "      <td>-0.934122</td>\n",
       "      <td>0.424386</td>\n",
       "      <td>-0.334371</td>\n",
       "      <td>-0.898561</td>\n",
       "      <td>...</td>\n",
       "      <td>0.185144</td>\n",
       "      <td>-1.037798</td>\n",
       "      <td>-0.033512</td>\n",
       "      <td>0.185144</td>\n",
       "      <td>-1.037798</td>\n",
       "      <td>-0.033512</td>\n",
       "      <td>0.185144</td>\n",
       "      <td>-1.043543</td>\n",
       "      <td>-0.049067</td>\n",
       "      <td>0.363210</td>\n",
       "    </tr>\n",
       "  </tbody>\n",
       "</table>\n",
       "<p>973 rows × 27 columns</p>\n",
       "</div>"
      ],
      "text/plain": [
       "       01-A-x    01-A-y    01-A-z    02-A-x    02-A-y    02-A-z    05-A-x  \\\n",
       "0   -0.973748 -0.017693  0.243302 -0.994793 -0.098765 -0.140075 -0.976662   \n",
       "1   -0.981824 -0.013248  0.242233 -1.006001 -0.092489 -0.150177 -0.963702   \n",
       "2   -0.989442 -0.006489  0.239989 -1.010699 -0.087015 -0.155761 -0.962521   \n",
       "3   -0.998160 -0.000679  0.235152 -1.012300 -0.082766 -0.155256 -0.968031   \n",
       "4   -1.000396  0.000273  0.234569 -1.007588 -0.083945 -0.164660 -0.969147   \n",
       "..        ...       ...       ...       ...       ...       ...       ...   \n",
       "968 -1.085435 -0.067985  0.286137 -1.076597  0.082404 -0.193628 -1.067833   \n",
       "969 -1.099892 -0.060721  0.304897 -1.106570  0.080794 -0.184264 -1.106451   \n",
       "970 -1.094778 -0.057338  0.325333 -1.118630  0.077481 -0.178773 -1.114853   \n",
       "971 -1.078245 -0.053341  0.346773 -1.116516  0.079017 -0.181111 -1.032180   \n",
       "972 -1.043543 -0.049067  0.363210 -1.118532  0.074192 -0.173690 -0.934122   \n",
       "\n",
       "       05-A-y    05-A-z    16-A-x  ...    18-A-z    19-A-x    19-A-y  \\\n",
       "0    0.159015 -0.187437 -0.850570  ...  0.244775 -0.991156 -0.027013   \n",
       "1    0.165809 -0.187085 -0.851816  ...  0.248089 -0.985464 -0.027270   \n",
       "2    0.167714 -0.190221 -0.851575  ...  0.256072 -0.981547 -0.027695   \n",
       "3    0.173407 -0.191665 -0.851491  ...  0.255501 -0.980279 -0.024533   \n",
       "4    0.176280 -0.191351 -0.852056  ...  0.253590 -0.980503 -0.023168   \n",
       "..        ...       ...       ...  ...       ...       ...       ...   \n",
       "968  0.047421 -0.241498 -0.917643  ...  0.215053 -1.052908 -0.060061   \n",
       "969  0.076779 -0.241180 -0.913967  ...  0.213845 -1.060515 -0.061563   \n",
       "970  0.180097 -0.272709 -0.911861  ...  0.209070 -1.053526 -0.048877   \n",
       "971  0.317035 -0.310787 -0.904786  ...  0.197352 -1.040362 -0.036744   \n",
       "972  0.424386 -0.334371 -0.898561  ...  0.185144 -1.037798 -0.033512   \n",
       "\n",
       "       19-A-z    20-A-x    20-A-y    20-A-z    21-A-x    21-A-y    21-A-z  \n",
       "0    0.244775 -0.991156 -0.027013  0.244775 -0.973748 -0.017693  0.243302  \n",
       "1    0.248089 -0.985464 -0.027270  0.248089 -0.981824 -0.013248  0.242233  \n",
       "2    0.256072 -0.981547 -0.027695  0.256072 -0.989442 -0.006489  0.239989  \n",
       "3    0.255501 -0.980279 -0.024533  0.255501 -0.998160 -0.000679  0.235152  \n",
       "4    0.253590 -0.980503 -0.023168  0.253590 -1.000396  0.000273  0.234569  \n",
       "..        ...       ...       ...       ...       ...       ...       ...  \n",
       "968  0.215053 -1.052908 -0.060061  0.215053 -1.085435 -0.067985  0.286137  \n",
       "969  0.213845 -1.060515 -0.061563  0.213845 -1.099892 -0.060721  0.304897  \n",
       "970  0.209070 -1.053526 -0.048877  0.209070 -1.094778 -0.057338  0.325333  \n",
       "971  0.197352 -1.040362 -0.036744  0.197352 -1.078245 -0.053341  0.346773  \n",
       "972  0.185144 -1.037798 -0.033512  0.185144 -1.043543 -0.049067  0.363210  \n",
       "\n",
       "[973 rows x 27 columns]"
      ]
     },
     "execution_count": 89,
     "metadata": {},
     "output_type": "execute_result"
    }
   ],
   "source": [
    "pd.read_csv('/Users/User/OneDrive/TCC/ema_motion_analysis_imu/data/'+ name_description +'_Sit_and_Stand.csv', \n",
    "            sep = ';')"
   ]
  },
  {
   "cell_type": "code",
   "execution_count": null,
   "metadata": {},
   "outputs": [],
   "source": []
  },
  {
   "cell_type": "code",
   "execution_count": 62,
   "metadata": {},
   "outputs": [],
   "source": []
  }
 ],
 "metadata": {
  "kernelspec": {
   "display_name": "Python 3",
   "language": "python",
   "name": "python3"
  },
  "language_info": {
   "codemirror_mode": {
    "name": "ipython",
    "version": 3
   },
   "file_extension": ".py",
   "mimetype": "text/x-python",
   "name": "python",
   "nbconvert_exporter": "python",
   "pygments_lexer": "ipython3",
   "version": "3.9.1"
  }
 },
 "nbformat": 4,
 "nbformat_minor": 4
}
