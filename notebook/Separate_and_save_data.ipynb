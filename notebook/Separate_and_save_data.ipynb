{
 "cells": [
  {
   "cell_type": "code",
   "execution_count": 1,
   "metadata": {
    "Collapsed": "false"
   },
   "outputs": [],
   "source": [
    "import os\n",
    "import collections\n",
    "import re\n",
    "import cv2\n",
    "\n",
    "import numpy as np\n",
    "import pandas as pd\n",
    "import math\n",
    "import matplotlib.pyplot as plt\n",
    "import scipy.io as sio\n",
    "import scipy.signal as signal\n",
    "from pathlib import Path\n",
    "\n",
    "import sys\n",
    "sys.path.append(\"../src\")\n",
    "#importlib.reload(data_conversions)\n",
    "from conversion_mat_to_py import mat2dict, pretty_dict, matobj2dict, dict2ntuple\n",
    "from sources_cv2 import defineStartEnd, count_frames\n",
    "from save_datas import save_data\n",
    "from data_conversions import acc_to_angle\n"
   ]
  },
  {
   "cell_type": "code",
   "execution_count": 2,
   "metadata": {},
   "outputs": [],
   "source": [
    "def SaveStartEnd(new_start_end, name_description):\n",
    "    \n",
    "    '''Dados do início e fim do movimento de sentar e levantar'''\n",
    "    '''Entrada: DataFrame com dados de início e fim da IMU e do frame correspondente'''\n",
    "    \n",
    "    caminho = '/Users/User/OneDrive/TCC/ema_motion_analysis_imu/data/'\n",
    "    arquivo = 'Start_End_Sit_and_Stand.csv'\n",
    "    \n",
    "    start_end = pd.read_csv(caminho + arquivo, sep = ';')\n",
    "    \n",
    "    try:\n",
    "        start_end.loc[:,[name_description]]\n",
    "        start_end.loc[:,[name_description]] = new_start_end[[name_description]]\n",
    "        print('Dados Atualizados')\n",
    "    except KeyError:\n",
    "        start_end = pd.merge(start_end, new_start_end, on = 'Description')\n",
    "        print('Dados Adicionados')\n",
    "    \n",
    "    start_end.to_csv(caminho + arquivo, sep = ';', index = False)"
   ]
  },
  {
   "cell_type": "code",
   "execution_count": 3,
   "metadata": {
    "Collapsed": "false"
   },
   "outputs": [],
   "source": [
    "# Caminho onde estão os dados .mat\n",
    "caminho = '/Users/User/OneDrive/TCC/MoVi/IMUmatlab_Subject/'\n"
   ]
  },
  {
   "cell_type": "markdown",
   "metadata": {},
   "source": [
    "### -> Escolher o voluntário"
   ]
  },
  {
   "cell_type": "code",
   "execution_count": 5,
   "metadata": {},
   "outputs": [],
   "source": [
    "\n",
    "# Número do arquivo do voluntário, alterar apenas o número\n",
    "\n",
    "''' Alterar o número do sujeito analisado'''\n",
    "\n",
    "voluntary = 10\n"
   ]
  },
  {
   "cell_type": "code",
   "execution_count": 6,
   "metadata": {},
   "outputs": [],
   "source": [
    "voluntary = str(voluntary)\n",
    "imu_filename = caminho + 'imu_Subject_' + voluntary + '.mat'"
   ]
  },
  {
   "cell_type": "code",
   "execution_count": 7,
   "metadata": {},
   "outputs": [
    {
     "name": "stdout",
     "output_type": "stream",
     "text": [
      "\tKey: S1_Synched\n",
      "\t\tKey: originalFile\n",
      "\t\tKey: description\n",
      "\t\tKey: jointNumbers\n",
      "\t\tKey: jointNames\n",
      "\t\tKey: dataTypes\n",
      "\t\tKey: dataTypesDescription\n",
      "\t\tKey: dataHeader\n",
      "\t\tKey: data\n",
      "\t\tKey: delay\n",
      "\t\tKey: scale\n",
      "\tKey: S2_Synched\n",
      "\t\tKey: originalFile\n",
      "\t\tKey: description\n",
      "\t\tKey: jointNumbers\n",
      "\t\tKey: jointNames\n",
      "\t\tKey: dataTypes\n",
      "\t\tKey: dataTypesDescription\n",
      "\t\tKey: dataHeader\n",
      "\t\tKey: data\n",
      "\t\tKey: delay\n",
      "\t\tKey: scale\n",
      "\tKey: I1\n",
      "\t\tKey: originalFile\n",
      "\t\tKey: description\n",
      "\t\tKey: jointNumbers\n",
      "\t\tKey: jointNames\n",
      "\t\tKey: dataTypes\n",
      "\t\tKey: dataTypesDescription\n",
      "\t\tKey: dataHeader\n",
      "\t\tKey: data\n",
      "\tKey: I2\n",
      "\t\tKey: originalFile\n",
      "\t\tKey: description\n",
      "\t\tKey: jointNumbers\n",
      "\t\tKey: jointNames\n",
      "\t\tKey: dataTypes\n",
      "\t\tKey: dataTypesDescription\n",
      "\t\tKey: dataHeader\n",
      "\t\tKey: data\n",
      "\tKey: S1\n",
      "\t\tKey: originalFile\n",
      "\t\tKey: description\n",
      "\t\tKey: jointNumbers\n",
      "\t\tKey: jointNames\n",
      "\t\tKey: dataTypes\n",
      "\t\tKey: dataTypesDescription\n",
      "\t\tKey: dataHeader\n",
      "\t\tKey: data\n",
      "\tKey: S2\n",
      "\t\tKey: originalFile\n",
      "\t\tKey: description\n",
      "\t\tKey: jointNumbers\n",
      "\t\tKey: jointNames\n",
      "\t\tKey: dataTypes\n",
      "\t\tKey: dataTypesDescription\n",
      "\t\tKey: dataHeader\n",
      "\t\tKey: data\n"
     ]
    }
   ],
   "source": [
    "\n",
    "# Reading MoVi files as a Python dictionary\n",
    "sample = mat2dict(imu_filename)\n",
    "pretty_dict(sample, print_type=False, indent=1)"
   ]
  },
  {
   "cell_type": "markdown",
   "metadata": {},
   "source": [
    "# -> Escolher chave!!!"
   ]
  },
  {
   "cell_type": "code",
   "execution_count": 8,
   "metadata": {
    "Collapsed": "false"
   },
   "outputs": [],
   "source": [
    "\n",
    "''' Escolher a chave na qual os dados serão utiliados'''\n",
    "''' S1 possui a pose em pé entre os movimentos'''\n",
    "\n",
    "key = 'S1_Synched'\n"
   ]
  },
  {
   "cell_type": "code",
   "execution_count": 9,
   "metadata": {},
   "outputs": [],
   "source": [
    "Data = sample[key]['data']\n",
    "name_description = sample[key]['description']\n",
    "data_complete = pd.DataFrame(Data)"
   ]
  },
  {
   "cell_type": "code",
   "execution_count": 10,
   "metadata": {},
   "outputs": [
    {
     "name": "stdout",
     "output_type": "stream",
     "text": [
      "\tKey: __header__\n",
      "\tKey: __version__\n",
      "\tKey: __globals__\n",
      "\tKey: None\n",
      "\tKey: __function_workspace__\n"
     ]
    }
   ],
   "source": [
    "dataHeader_filename = caminho + 'dataHeader.mat'\n",
    "dataHeader = sio.loadmat(dataHeader_filename)\n",
    "pretty_dict(dataHeader, print_type=False, indent=1)\n",
    "\n",
    "header = pd.read_csv(caminho + 'columns.csv', sep=';')\n",
    "header = header[:].values.tolist()\n",
    "\n",
    "#Transformar os dados em um data frame para facilitar a visualização\n",
    "data = pd.DataFrame(Data, columns=header)"
   ]
  },
  {
   "cell_type": "markdown",
   "metadata": {},
   "source": [
    "## Separando apenas os dados do movimento de sentar e levantar\n",
    "\n",
    "Verificar os dados de acordo com os vídeos.\n",
    "\n"
   ]
  },
  {
   "cell_type": "code",
   "execution_count": 11,
   "metadata": {},
   "outputs": [],
   "source": [
    "video_path = '/Users/User/OneDrive/TCC/MoVi/Videos/'\n",
    "\n",
    "if key == 'S1_Synched' or key == 'S1':\n",
    "    video_S = 'S1'\n",
    "    \n",
    "elif key == 'S2_Synched' or key == 'S2':\n",
    "    video_S = 'S2'\n",
    "\n",
    "else:\n",
    "    print('Não possui vídeo correspondente a esses dados')\n"
   ]
  },
  {
   "cell_type": "code",
   "execution_count": 12,
   "metadata": {},
   "outputs": [],
   "source": [
    "video_name = video_path + video_S + '_PG1_Subject_' + voluntary + '_L.avi'\n",
    "\n",
    "\n",
    "# Frequencia dos dados\n",
    "\n",
    "freq_IMU = 120\n",
    "\n",
    "n_frames, fps = count_frames(video_name)"
   ]
  },
  {
   "cell_type": "markdown",
   "metadata": {},
   "source": [
    "# -> Escolher o tempo de início aproximado para o movimento de sentar e levantar"
   ]
  },
  {
   "cell_type": "code",
   "execution_count": 13,
   "metadata": {},
   "outputs": [
    {
     "name": "stdout",
     "output_type": "stream",
     "text": [
      "Utilizar o vídeo com o seguinte nome:  S1_PG1_Subject_10_L.avi\n"
     ]
    }
   ],
   "source": [
    "print('Utilizar o vídeo com o seguinte nome: ', video_S + '_PG1_Subject_' + voluntary + '_L.avi' )"
   ]
  },
  {
   "cell_type": "code",
   "execution_count": 14,
   "metadata": {},
   "outputs": [],
   "source": [
    "\n",
    "'''Alterar o tempo de início aproximado do movimento de sentar e levantar'''\n",
    "\n",
    "# alterar o minuto do vídeo para o movimento de sentar\n",
    "min_init_video = 0\n",
    "# alterar o segundo do vídeo para o movimento de sentar\n",
    "seg_init_video = 15\n",
    "\n",
    "\n",
    "aprox_init_video = int(((min_init_video * 60) + seg_init_video) * fps)"
   ]
  },
  {
   "cell_type": "code",
   "execution_count": 15,
   "metadata": {},
   "outputs": [
    {
     "name": "stdout",
     "output_type": "stream",
     "text": [
      "[486, 0]\n",
      "[486, 845]\n"
     ]
    }
   ],
   "source": [
    "start_end = defineStartEnd(video_name, n_frames, aprox_init_video)"
   ]
  },
  {
   "cell_type": "code",
   "execution_count": 16,
   "metadata": {},
   "outputs": [
    {
     "data": {
      "text/plain": [
       "1437"
      ]
     },
     "execution_count": 16,
     "metadata": {},
     "output_type": "execute_result"
    }
   ],
   "source": [
    "# frame de início e final do movimento de sentar e levantar\n",
    "frame_start = start_end[0]\n",
    "frame_end = start_end[1]\n",
    "\n",
    "# converter o frame do vídeo do início do movimento de sentar para o dado de IMU correspondente \n",
    "temp_start = frame_start / fps\n",
    "IMU_start = int(temp_start * freq_IMU)\n",
    "\n",
    "# converter o frame do vídeo do final do movimento de levantar para o dado de IMU correspondente \n",
    "temp_end = frame_end / fps\n",
    "IMU_end = int(temp_end * freq_IMU)\n",
    "\n",
    "# criando os dados apenas com as informações de sentar e levantar\n",
    "data_sit_to_stand = data.iloc[IMU_start:IMU_end + 1,:]\n",
    "len(data_sit_to_stand)"
   ]
  },
  {
   "cell_type": "code",
   "execution_count": 17,
   "metadata": {},
   "outputs": [],
   "source": [
    "# Criar DataFrame com os valores das amostras e frames de início e fim\n",
    "x = [[IMU_start],[IMU_end],[frame_start],[frame_end]]\n",
    "new_start_end = pd.DataFrame(x, columns = [name_description] )\n",
    "\n",
    "# Criar DataFrame com os nomes das amostras e frames de início e fim\n",
    "infos = np.array([['IMU_start'],['IMU_end'],['frame_start'],['frame_end']])\n",
    "new_start_end_2 = pd.DataFrame(infos, columns = ['Description'])\n",
    "\n",
    "# Criar DataFrame com os nomes e valores das amotras e frames de início e fim\n",
    "new_start_end = pd.concat((new_start_end_2, new_start_end), axis = 1)\n",
    "\n"
   ]
  },
  {
   "cell_type": "markdown",
   "metadata": {},
   "source": [
    "## Separar apenas os dados de aceleração dos sensores da coxa e os do tronco\n",
    "\n",
    "Para utilizar os dados de aceleração do pescoço e das pernas, utilizaremos os dados do:\n",
    "* sensor 1 [10:13], 16 [250:253], 17 [266:269], 18 [282:285], 19 [298:301], 20 [314:317], 21 [330:333] -> quadril, cabeça, pescoço, tronco 3 2 1;\n",
    "* sensor 2 [26:29] -> coxa direita;\n",
    "* sensor 5 [74:77] -> coxa esquerda. \n",
    "\n"
   ]
  },
  {
   "cell_type": "code",
   "execution_count": 18,
   "metadata": {},
   "outputs": [],
   "source": [
    "# Criando os dados apenas com os sensores desejados e dados de aceleração\n",
    "data_set = pd.concat((data_sit_to_stand.iloc[:,10:13], data_sit_to_stand.iloc[:,26:29], data_sit_to_stand.iloc[:,74:77], \n",
    "                      data_sit_to_stand.iloc[:,250:253],data_sit_to_stand.iloc[:,266:269], data_sit_to_stand.iloc[:,282:285], \n",
    "                      data_sit_to_stand.iloc[:,298:301], data_sit_to_stand.iloc[:,314:317], data_sit_to_stand.iloc[:,330:333]),\n",
    "                     axis=1)"
   ]
  },
  {
   "cell_type": "markdown",
   "metadata": {},
   "source": [
    "### Prévia dos dados"
   ]
  },
  {
   "cell_type": "code",
   "execution_count": 19,
   "metadata": {},
   "outputs": [],
   "source": [
    "data_18_A = data_set.iloc[:,15:18].values\n",
    "data_5_A = data_set.iloc[:,6:9].values\n",
    "data_21_A = data_set.iloc[:,24:27].values"
   ]
  },
  {
   "cell_type": "code",
   "execution_count": 20,
   "metadata": {},
   "outputs": [],
   "source": [
    "angle_rad_neck, angle_neck = acc_to_angle(data_18_A)\n",
    "angle_rad_right_up_leg, angle_right_up_leg = acc_to_angle(data_5_A)\n",
    "angle_rad_trunk, angle_trunk = acc_to_angle(data_21_A)"
   ]
  },
  {
   "cell_type": "code",
   "execution_count": 21,
   "metadata": {},
   "outputs": [
    {
     "data": {
      "text/plain": [
       "[<matplotlib.lines.Line2D at 0x22180092ca0>]"
      ]
     },
     "execution_count": 21,
     "metadata": {},
     "output_type": "execute_result"
    },
    {
     "data": {
      "image/png": "[encoded data removed]",
      "text/plain": [
       "<Figure size 432x288 with 3 Axes>"
      ]
     },
     "metadata": {
      "needs_background": "light"
     },
     "output_type": "display_data"
    }
   ],
   "source": [
    "fig, axs = plt.subplots(3, sharex=True, sharey=True)\n",
    "\n",
    "axs[0].plot(angle_rad_neck)\n",
    "axs[1].plot(angle_rad_right_up_leg)\n",
    "axs[2].plot(angle_rad_trunk)"
   ]
  },
  {
   "cell_type": "code",
   "execution_count": 22,
   "metadata": {},
   "outputs": [
    {
     "data": {
      "image/png": "[encoded data removed]",
      "text/plain": [
       "<Figure size 432x288 with 1 Axes>"
      ]
     },
     "metadata": {
      "needs_background": "light"
     },
     "output_type": "display_data"
    }
   ],
   "source": [
    "plt.subplot(111)\n",
    "\n",
    "plt.plot(angle_neck, label = 'Neck')\n",
    "plt.plot(angle_right_up_leg, label = 'Up Leg')\n",
    "plt.plot(angle_trunk, label = 'Trunk')\n",
    "\n",
    "plt.legend()\n",
    "\n",
    "plt.grid()\n",
    "plt.show()"
   ]
  },
  {
   "cell_type": "markdown",
   "metadata": {},
   "source": [
    "### Salvar os dados"
   ]
  },
  {
   "cell_type": "code",
   "execution_count": 23,
   "metadata": {},
   "outputs": [
    {
     "name": "stdout",
     "output_type": "stream",
     "text": [
      "Dados Atualizados\n"
     ]
    }
   ],
   "source": [
    "# Salvar dados das IMUs referentes ao movimento de sentar e levantar\n",
    "save_data(data_set, key, name_description)\n",
    "# Salvar os dados das amostras e frames de início e fim \n",
    "SaveStartEnd(new_start_end, name_description)"
   ]
  },
  {
   "cell_type": "code",
   "execution_count": 24,
   "metadata": {},
   "outputs": [
    {
     "data": {
      "text/html": [
       "<div>\n",
       "<style scoped>\n",
       "    .dataframe tbody tr th:only-of-type {\n",
       "        vertical-align: middle;\n",
       "    }\n",
       "\n",
       "    .dataframe tbody tr th {\n",
       "        vertical-align: top;\n",
       "    }\n",
       "\n",
       "    .dataframe thead th {\n",
       "        text-align: right;\n",
       "    }\n",
       "</style>\n",
       "<table border=\"1\" class=\"dataframe\">\n",
       "  <thead>\n",
       "    <tr style=\"text-align: right;\">\n",
       "      <th></th>\n",
       "      <th>01-A-x</th>\n",
       "      <th>01-A-y</th>\n",
       "      <th>01-A-z</th>\n",
       "      <th>02-A-x</th>\n",
       "      <th>02-A-y</th>\n",
       "      <th>02-A-z</th>\n",
       "      <th>05-A-x</th>\n",
       "      <th>05-A-y</th>\n",
       "      <th>05-A-z</th>\n",
       "      <th>16-A-x</th>\n",
       "      <th>...</th>\n",
       "      <th>18-A-z</th>\n",
       "      <th>19-A-x</th>\n",
       "      <th>19-A-y</th>\n",
       "      <th>19-A-z</th>\n",
       "      <th>20-A-x</th>\n",
       "      <th>20-A-y</th>\n",
       "      <th>20-A-z</th>\n",
       "      <th>21-A-x</th>\n",
       "      <th>21-A-y</th>\n",
       "      <th>21-A-z</th>\n",
       "    </tr>\n",
       "  </thead>\n",
       "  <tbody>\n",
       "    <tr>\n",
       "      <th>0</th>\n",
       "      <td>-0.998577</td>\n",
       "      <td>-0.113761</td>\n",
       "      <td>0.168050</td>\n",
       "      <td>-0.996542</td>\n",
       "      <td>0.086211</td>\n",
       "      <td>-0.111311</td>\n",
       "      <td>-0.988101</td>\n",
       "      <td>0.038332</td>\n",
       "      <td>-0.176255</td>\n",
       "      <td>-0.962711</td>\n",
       "      <td>...</td>\n",
       "      <td>0.259046</td>\n",
       "      <td>-0.957517</td>\n",
       "      <td>0.136943</td>\n",
       "      <td>0.259046</td>\n",
       "      <td>-0.957517</td>\n",
       "      <td>0.136943</td>\n",
       "      <td>0.259046</td>\n",
       "      <td>-0.998577</td>\n",
       "      <td>-0.113761</td>\n",
       "      <td>0.168050</td>\n",
       "    </tr>\n",
       "    <tr>\n",
       "      <th>1</th>\n",
       "      <td>-0.993947</td>\n",
       "      <td>-0.121616</td>\n",
       "      <td>0.167645</td>\n",
       "      <td>-0.987749</td>\n",
       "      <td>0.077284</td>\n",
       "      <td>-0.115549</td>\n",
       "      <td>-0.988776</td>\n",
       "      <td>0.040321</td>\n",
       "      <td>-0.175775</td>\n",
       "      <td>-0.952078</td>\n",
       "      <td>...</td>\n",
       "      <td>0.266361</td>\n",
       "      <td>-0.948151</td>\n",
       "      <td>0.141382</td>\n",
       "      <td>0.266361</td>\n",
       "      <td>-0.948151</td>\n",
       "      <td>0.141382</td>\n",
       "      <td>0.266361</td>\n",
       "      <td>-0.993947</td>\n",
       "      <td>-0.121616</td>\n",
       "      <td>0.167645</td>\n",
       "    </tr>\n",
       "    <tr>\n",
       "      <th>2</th>\n",
       "      <td>-0.989787</td>\n",
       "      <td>-0.127255</td>\n",
       "      <td>0.169999</td>\n",
       "      <td>-0.981385</td>\n",
       "      <td>0.056962</td>\n",
       "      <td>-0.134165</td>\n",
       "      <td>-0.985962</td>\n",
       "      <td>0.033070</td>\n",
       "      <td>-0.175447</td>\n",
       "      <td>-0.947156</td>\n",
       "      <td>...</td>\n",
       "      <td>0.269790</td>\n",
       "      <td>-0.944837</td>\n",
       "      <td>0.140246</td>\n",
       "      <td>0.269790</td>\n",
       "      <td>-0.944837</td>\n",
       "      <td>0.140246</td>\n",
       "      <td>0.269790</td>\n",
       "      <td>-0.989787</td>\n",
       "      <td>-0.127255</td>\n",
       "      <td>0.169999</td>\n",
       "    </tr>\n",
       "    <tr>\n",
       "      <th>3</th>\n",
       "      <td>-0.988084</td>\n",
       "      <td>-0.131631</td>\n",
       "      <td>0.172795</td>\n",
       "      <td>-0.982166</td>\n",
       "      <td>0.042654</td>\n",
       "      <td>-0.148820</td>\n",
       "      <td>-0.984748</td>\n",
       "      <td>0.023063</td>\n",
       "      <td>-0.177898</td>\n",
       "      <td>-0.942221</td>\n",
       "      <td>...</td>\n",
       "      <td>0.270657</td>\n",
       "      <td>-0.945127</td>\n",
       "      <td>0.141249</td>\n",
       "      <td>0.270657</td>\n",
       "      <td>-0.945127</td>\n",
       "      <td>0.141249</td>\n",
       "      <td>0.270657</td>\n",
       "      <td>-0.988084</td>\n",
       "      <td>-0.131631</td>\n",
       "      <td>0.172795</td>\n",
       "    </tr>\n",
       "    <tr>\n",
       "      <th>4</th>\n",
       "      <td>-0.988066</td>\n",
       "      <td>-0.131137</td>\n",
       "      <td>0.169126</td>\n",
       "      <td>-0.986636</td>\n",
       "      <td>0.043578</td>\n",
       "      <td>-0.147797</td>\n",
       "      <td>-0.980445</td>\n",
       "      <td>0.012375</td>\n",
       "      <td>-0.180363</td>\n",
       "      <td>-0.944941</td>\n",
       "      <td>...</td>\n",
       "      <td>0.261804</td>\n",
       "      <td>-0.947145</td>\n",
       "      <td>0.137653</td>\n",
       "      <td>0.261804</td>\n",
       "      <td>-0.947145</td>\n",
       "      <td>0.137653</td>\n",
       "      <td>0.261804</td>\n",
       "      <td>-0.988066</td>\n",
       "      <td>-0.131137</td>\n",
       "      <td>0.169126</td>\n",
       "    </tr>\n",
       "    <tr>\n",
       "      <th>...</th>\n",
       "      <td>...</td>\n",
       "      <td>...</td>\n",
       "      <td>...</td>\n",
       "      <td>...</td>\n",
       "      <td>...</td>\n",
       "      <td>...</td>\n",
       "      <td>...</td>\n",
       "      <td>...</td>\n",
       "      <td>...</td>\n",
       "      <td>...</td>\n",
       "      <td>...</td>\n",
       "      <td>...</td>\n",
       "      <td>...</td>\n",
       "      <td>...</td>\n",
       "      <td>...</td>\n",
       "      <td>...</td>\n",
       "      <td>...</td>\n",
       "      <td>...</td>\n",
       "      <td>...</td>\n",
       "      <td>...</td>\n",
       "      <td>...</td>\n",
       "    </tr>\n",
       "    <tr>\n",
       "      <th>1432</th>\n",
       "      <td>-0.941425</td>\n",
       "      <td>-0.103993</td>\n",
       "      <td>0.274247</td>\n",
       "      <td>-0.990463</td>\n",
       "      <td>0.061869</td>\n",
       "      <td>-0.197752</td>\n",
       "      <td>-0.982142</td>\n",
       "      <td>-0.018276</td>\n",
       "      <td>-0.302054</td>\n",
       "      <td>-0.610052</td>\n",
       "      <td>...</td>\n",
       "      <td>0.056680</td>\n",
       "      <td>-1.155416</td>\n",
       "      <td>-0.025696</td>\n",
       "      <td>0.056680</td>\n",
       "      <td>-1.155416</td>\n",
       "      <td>-0.025696</td>\n",
       "      <td>0.056680</td>\n",
       "      <td>-0.941425</td>\n",
       "      <td>-0.103993</td>\n",
       "      <td>0.274247</td>\n",
       "    </tr>\n",
       "    <tr>\n",
       "      <th>1433</th>\n",
       "      <td>-0.937798</td>\n",
       "      <td>-0.104683</td>\n",
       "      <td>0.276501</td>\n",
       "      <td>-1.000164</td>\n",
       "      <td>0.068640</td>\n",
       "      <td>-0.205562</td>\n",
       "      <td>-0.972795</td>\n",
       "      <td>-0.012715</td>\n",
       "      <td>-0.308565</td>\n",
       "      <td>-0.586623</td>\n",
       "      <td>...</td>\n",
       "      <td>0.143377</td>\n",
       "      <td>-1.150005</td>\n",
       "      <td>0.006151</td>\n",
       "      <td>0.143377</td>\n",
       "      <td>-1.150005</td>\n",
       "      <td>0.006151</td>\n",
       "      <td>0.143377</td>\n",
       "      <td>-0.937798</td>\n",
       "      <td>-0.104683</td>\n",
       "      <td>0.276501</td>\n",
       "    </tr>\n",
       "    <tr>\n",
       "      <th>1434</th>\n",
       "      <td>-0.935749</td>\n",
       "      <td>-0.110181</td>\n",
       "      <td>0.280462</td>\n",
       "      <td>-1.004593</td>\n",
       "      <td>0.070736</td>\n",
       "      <td>-0.207364</td>\n",
       "      <td>-0.966827</td>\n",
       "      <td>-0.003886</td>\n",
       "      <td>-0.323795</td>\n",
       "      <td>-0.627740</td>\n",
       "      <td>...</td>\n",
       "      <td>0.192418</td>\n",
       "      <td>-1.124213</td>\n",
       "      <td>0.033990</td>\n",
       "      <td>0.192418</td>\n",
       "      <td>-1.124213</td>\n",
       "      <td>0.033990</td>\n",
       "      <td>0.192418</td>\n",
       "      <td>-0.935749</td>\n",
       "      <td>-0.110181</td>\n",
       "      <td>0.280462</td>\n",
       "    </tr>\n",
       "    <tr>\n",
       "      <th>1435</th>\n",
       "      <td>-0.944044</td>\n",
       "      <td>-0.106860</td>\n",
       "      <td>0.265170</td>\n",
       "      <td>-1.003345</td>\n",
       "      <td>0.069450</td>\n",
       "      <td>-0.206219</td>\n",
       "      <td>-0.963065</td>\n",
       "      <td>0.001325</td>\n",
       "      <td>-0.347121</td>\n",
       "      <td>-0.633210</td>\n",
       "      <td>...</td>\n",
       "      <td>0.236702</td>\n",
       "      <td>-1.077169</td>\n",
       "      <td>0.045788</td>\n",
       "      <td>0.236702</td>\n",
       "      <td>-1.077169</td>\n",
       "      <td>0.045788</td>\n",
       "      <td>0.236702</td>\n",
       "      <td>-0.944044</td>\n",
       "      <td>-0.106860</td>\n",
       "      <td>0.265170</td>\n",
       "    </tr>\n",
       "    <tr>\n",
       "      <th>1436</th>\n",
       "      <td>-0.958307</td>\n",
       "      <td>-0.086150</td>\n",
       "      <td>0.258718</td>\n",
       "      <td>-1.005810</td>\n",
       "      <td>0.074389</td>\n",
       "      <td>-0.210892</td>\n",
       "      <td>-0.959392</td>\n",
       "      <td>0.008966</td>\n",
       "      <td>-0.365031</td>\n",
       "      <td>-0.679752</td>\n",
       "      <td>...</td>\n",
       "      <td>0.263326</td>\n",
       "      <td>-1.017346</td>\n",
       "      <td>0.060887</td>\n",
       "      <td>0.263326</td>\n",
       "      <td>-1.017346</td>\n",
       "      <td>0.060887</td>\n",
       "      <td>0.263326</td>\n",
       "      <td>-0.958307</td>\n",
       "      <td>-0.086150</td>\n",
       "      <td>0.258718</td>\n",
       "    </tr>\n",
       "  </tbody>\n",
       "</table>\n",
       "<p>1437 rows × 27 columns</p>\n",
       "</div>"
      ],
      "text/plain": [
       "        01-A-x    01-A-y    01-A-z    02-A-x    02-A-y    02-A-z    05-A-x  \\\n",
       "0    -0.998577 -0.113761  0.168050 -0.996542  0.086211 -0.111311 -0.988101   \n",
       "1    -0.993947 -0.121616  0.167645 -0.987749  0.077284 -0.115549 -0.988776   \n",
       "2    -0.989787 -0.127255  0.169999 -0.981385  0.056962 -0.134165 -0.985962   \n",
       "3    -0.988084 -0.131631  0.172795 -0.982166  0.042654 -0.148820 -0.984748   \n",
       "4    -0.988066 -0.131137  0.169126 -0.986636  0.043578 -0.147797 -0.980445   \n",
       "...        ...       ...       ...       ...       ...       ...       ...   \n",
       "1432 -0.941425 -0.103993  0.274247 -0.990463  0.061869 -0.197752 -0.982142   \n",
       "1433 -0.937798 -0.104683  0.276501 -1.000164  0.068640 -0.205562 -0.972795   \n",
       "1434 -0.935749 -0.110181  0.280462 -1.004593  0.070736 -0.207364 -0.966827   \n",
       "1435 -0.944044 -0.106860  0.265170 -1.003345  0.069450 -0.206219 -0.963065   \n",
       "1436 -0.958307 -0.086150  0.258718 -1.005810  0.074389 -0.210892 -0.959392   \n",
       "\n",
       "        05-A-y    05-A-z    16-A-x  ...    18-A-z    19-A-x    19-A-y  \\\n",
       "0     0.038332 -0.176255 -0.962711  ...  0.259046 -0.957517  0.136943   \n",
       "1     0.040321 -0.175775 -0.952078  ...  0.266361 -0.948151  0.141382   \n",
       "2     0.033070 -0.175447 -0.947156  ...  0.269790 -0.944837  0.140246   \n",
       "3     0.023063 -0.177898 -0.942221  ...  0.270657 -0.945127  0.141249   \n",
       "4     0.012375 -0.180363 -0.944941  ...  0.261804 -0.947145  0.137653   \n",
       "...        ...       ...       ...  ...       ...       ...       ...   \n",
       "1432 -0.018276 -0.302054 -0.610052  ...  0.056680 -1.155416 -0.025696   \n",
       "1433 -0.012715 -0.308565 -0.586623  ...  0.143377 -1.150005  0.006151   \n",
       "1434 -0.003886 -0.323795 -0.627740  ...  0.192418 -1.124213  0.033990   \n",
       "1435  0.001325 -0.347121 -0.633210  ...  0.236702 -1.077169  0.045788   \n",
       "1436  0.008966 -0.365031 -0.679752  ...  0.263326 -1.017346  0.060887   \n",
       "\n",
       "        19-A-z    20-A-x    20-A-y    20-A-z    21-A-x    21-A-y    21-A-z  \n",
       "0     0.259046 -0.957517  0.136943  0.259046 -0.998577 -0.113761  0.168050  \n",
       "1     0.266361 -0.948151  0.141382  0.266361 -0.993947 -0.121616  0.167645  \n",
       "2     0.269790 -0.944837  0.140246  0.269790 -0.989787 -0.127255  0.169999  \n",
       "3     0.270657 -0.945127  0.141249  0.270657 -0.988084 -0.131631  0.172795  \n",
       "4     0.261804 -0.947145  0.137653  0.261804 -0.988066 -0.131137  0.169126  \n",
       "...        ...       ...       ...       ...       ...       ...       ...  \n",
       "1432  0.056680 -1.155416 -0.025696  0.056680 -0.941425 -0.103993  0.274247  \n",
       "1433  0.143377 -1.150005  0.006151  0.143377 -0.937798 -0.104683  0.276501  \n",
       "1434  0.192418 -1.124213  0.033990  0.192418 -0.935749 -0.110181  0.280462  \n",
       "1435  0.236702 -1.077169  0.045788  0.236702 -0.944044 -0.106860  0.265170  \n",
       "1436  0.263326 -1.017346  0.060887  0.263326 -0.958307 -0.086150  0.258718  \n",
       "\n",
       "[1437 rows x 27 columns]"
      ]
     },
     "execution_count": 24,
     "metadata": {},
     "output_type": "execute_result"
    }
   ],
   "source": [
    "pd.read_csv('/Users/User/OneDrive/TCC/ema_motion_analysis_imu/data/'+ name_description +'_Sit_and_Stand.csv', \n",
    "            sep = ';')"
   ]
  },
  {
   "cell_type": "code",
   "execution_count": null,
   "metadata": {},
   "outputs": [],
   "source": []
  },
  {
   "cell_type": "code",
   "execution_count": null,
   "metadata": {},
   "outputs": [],
   "source": []
  },
  {
   "cell_type": "code",
   "execution_count": null,
   "metadata": {},
   "outputs": [],
   "source": []
  }
 ],
 "metadata": {
  "kernelspec": {
   "display_name": "Python 3",
   "language": "python",
   "name": "python3"
  },
  "language_info": {
   "codemirror_mode": {
    "name": "ipython",
    "version": 3
   },
   "file_extension": ".py",
   "mimetype": "text/x-python",
   "name": "python",
   "nbconvert_exporter": "python",
   "pygments_lexer": "ipython3",
   "version": "3.9.1"
  }
 },
 "nbformat": 4,
 "nbformat_minor": 4
}
