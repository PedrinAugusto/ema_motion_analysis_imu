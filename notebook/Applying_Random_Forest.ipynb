{
 "cells": [
  {
   "cell_type": "code",
   "execution_count": 1,
   "metadata": {},
   "outputs": [],
   "source": [
    "import numpy as np\n",
    "import pandas as pd\n",
    "import math\n",
    "import matplotlib.pyplot as plt\n",
    "import scipy.io as sio\n",
    "import scipy.signal as signal\n",
    "from pathlib import Path\n",
    "from scipy.spatial.distance import euclidean\n",
    "from scipy.signal import medfilt\n",
    "from scipy.signal import sosfiltfilt, butter\n",
    "\n",
    "import sys\n",
    "sys.path.append(\"../src\")\n",
    "from conversion_mat_to_py import mat2dict, pretty_dict, matobj2dict, dict2ntuple\n",
    "from sources_cv2 import defineStartEnd, count_frames\n",
    "from save_datas import save_data\n",
    "from data_conversions import acc_to_angle"
   ]
  },
  {
   "cell_type": "code",
   "execution_count": 2,
   "metadata": {},
   "outputs": [],
   "source": [
    "def filter_butter(data, ordem, freq_corte, freq_amostragem):\n",
    "    ''' Entrada: Dados que serão filtrados - shape(n,3)'''\n",
    "    ''' Entrada: Ordem do filtro'''\n",
    "    ''' Entrada: Frequência de corte do filtro'''\n",
    "    ''' Entrada: Frequência de amostragem do filtro'''\n",
    "    ''' Saída: Dados filtrados - shape(n,3)'''\n",
    "    \n",
    "    # Criar o filtro\n",
    "    create_filter = signal.butter(ordem, freq_corte, btype='low', fs=freq_amostragem, output='sos')\n",
    "    \n",
    "    # Criar a variável que irá receber os dados filtrados\n",
    "    data_filter = np.zeros(data.shape)\n",
    "    \n",
    "    # Aplicar o filtro\n",
    "    data_filter[:,0] = signal.sosfiltfilt(create_filter, data[:,0])\n",
    "    data_filter[:,1] = signal.sosfiltfilt(create_filter, data[:,1])\n",
    "    data_filter[:,2] = signal.sosfiltfilt(create_filter, data[:,2])\n",
    "    \n",
    "    return data_filter  "
   ]
  },
  {
   "cell_type": "code",
   "execution_count": 3,
   "metadata": {},
   "outputs": [],
   "source": [
    "def name_data(voluntary, key):\n",
    "    \n",
    "    data_path = '/Users/User/OneDrive/TCC/ema_motion_analysis_imu/data/'\n",
    "\n",
    "    if key == 'S1_Synched':\n",
    "        name = 'S1'\n",
    "        sincro = '_Synched'\n",
    "    \n",
    "    elif key == 'S2_Synched':\n",
    "        name = 'S2'\n",
    "        sincro = '_Synched'\n",
    "\n",
    "    else:\n",
    "        name = key\n",
    "        sincro = ''\n",
    "\n",
    "    arquivo = name + '_Subject_' + voluntary + sincro + '_Sit_and_Stand.csv'\n",
    "    \n",
    "    return arquivo, name, sincro"
   ]
  },
  {
   "cell_type": "markdown",
   "metadata": {},
   "source": [
    "# -> Escolher voluntário e chave\n",
    "\n",
    "* Voluntário => 1 até 90\n",
    "* Chaves => 'S1_Synched', 'S2_Synched', 'I1', 'I2', 'S1', 'S2'"
   ]
  },
  {
   "cell_type": "code",
   "execution_count": 4,
   "metadata": {},
   "outputs": [],
   "source": [
    "''' Alterar o número do Voluntário e a Chave de Repetição'''\n",
    "\n",
    "voluntary = 52\n",
    "key = 'S1_Synched'\n",
    "\n",
    "voluntary = str(voluntary)\n",
    "\n",
    "\n",
    "''' Alterar o número do Voluntário Referência e a Chave de Repetição Referência'''\n",
    "\n",
    "ref_voluntary = 15\n",
    "ref_key = 'S1_Synched'\n",
    "\n",
    "ref_voluntary = str(ref_voluntary)\n"
   ]
  },
  {
   "cell_type": "code",
   "execution_count": 5,
   "metadata": {},
   "outputs": [],
   "source": [
    "archive, name, sincro = name_data(voluntary, key)\n",
    "ref_archive, ref_name, ref_sincro = name_data(ref_voluntary, ref_key)\n",
    "video_path = '/Users/User/OneDrive/TCC/MoVi/Videos/'\n",
    "data_path = '/Users/User/OneDrive/TCC/ema_motion_analysis_imu/data/'\n",
    "\n",
    "data = pd.read_csv(data_path + archive, sep = ';')\n",
    "ref_data = pd.read_csv(data_path + ref_archive, sep = ';')"
   ]
  },
  {
   "cell_type": "code",
   "execution_count": 6,
   "metadata": {},
   "outputs": [],
   "source": [
    "RightUpLeg = data.iloc[:,3:6].values\n",
    "LeftUpLeg = data.iloc[:,6:9].values\n",
    "Spine = data.iloc[:,15:18].values\n",
    "R_0 = ref_data.iloc[:,3:6].values\n",
    "L_0 = ref_data.iloc[:,6:9].values\n",
    "S_0 = ref_data.iloc[:,15:18].values"
   ]
  },
  {
   "cell_type": "code",
   "execution_count": 7,
   "metadata": {},
   "outputs": [],
   "source": [
    "# Definindo a frequência de amostragem\n",
    "freq_amostragem = 120\n",
    "\n",
    "# Definindo a ordem do filtro \n",
    "ordem = 2\n",
    "\n",
    "# Definindo frequência de corte do filtro \n",
    "freq_corte_Leg = 0.7\n",
    "freq_corte_Spine = 1.3"
   ]
  },
  {
   "cell_type": "code",
   "execution_count": 8,
   "metadata": {},
   "outputs": [],
   "source": [
    "# Aplicando filtro com frequência de corte do pescoço, perna direita e perna esquerda.\n",
    "Spine_filter = filter_butter(Spine, ordem, freq_corte_Spine, freq_amostragem)\n",
    "RightUpLeg_filter = filter_butter(RightUpLeg, ordem, freq_corte_Leg, freq_amostragem)\n",
    "LeftUpLeg_filter = filter_butter(LeftUpLeg, ordem, freq_corte_Leg, freq_amostragem)\n",
    "S_0_filter = filter_butter(S_0, ordem, freq_corte_Spine, freq_amostragem)\n",
    "R_0_filter = filter_butter(R_0, ordem, freq_corte_Leg, freq_amostragem)\n",
    "L_0_filter = filter_butter(L_0, ordem, freq_corte_Leg, freq_amostragem)\n",
    "\n",
    "# Aplicando as transformações de aceleração para os dados de ângulos\n",
    "angle_rad_Spine_filter, angle_Spine_filter = acc_to_angle(Spine_filter)\n",
    "angle_rad_RightUpLeg_filter, angle_RightUpLeg_filter = acc_to_angle(RightUpLeg_filter)\n",
    "angle_rad_LeftUpLeg_filter, angle_LeftUpLeg_filter = acc_to_angle(LeftUpLeg_filter)\n",
    "angle_rad_Spine_filter, angle_S_0_filter = acc_to_angle(S_0_filter)\n",
    "angle_rad_RightUpLeg_filter, angle_R_0_filter = acc_to_angle(R_0_filter)\n",
    "angle_rad_LeftUpLeg_filter, angle_L_0_filter = acc_to_angle(L_0_filter)\n",
    "\n",
    "\n",
    "# Criando vetor de tempo\n",
    "t = np.linspace(0, len(angle_RightUpLeg_filter) / freq_amostragem, len(angle_RightUpLeg_filter))\n",
    "\n",
    "# Criando título das imagens\n",
    "title_Spine = 'Filtro em ' + str(freq_corte_Spine) + 'Hz'\n",
    "title_Leg = 'Filtro em ' + str(freq_corte_Leg) + 'Hz'"
   ]
  },
  {
   "cell_type": "markdown",
   "metadata": {},
   "source": [
    "# RNN com sklearn"
   ]
  },
  {
   "cell_type": "code",
   "execution_count": 10,
   "metadata": {},
   "outputs": [],
   "source": [
    "from sklearn.neural_network import MLPClassifier"
   ]
  },
  {
   "cell_type": "code",
   "execution_count": 11,
   "metadata": {},
   "outputs": [],
   "source": [
    "classificador = MLPClassifier(verbose = True, max_iter = 1000, tol = 0.00001)"
   ]
  },
  {
   "cell_type": "code",
   "execution_count": 12,
   "metadata": {},
   "outputs": [],
   "source": [
    "classes = np.zeros((angle_Spine_filter.shape))\n",
    "classes[0:140] = 0\n",
    "classes[140:370] = 1\n",
    "classes[370:570] = 2\n",
    "classes[570:830] = 1\n",
    "classes[830:] = 0\n",
    "previsores = np.c_[ angle_Spine_filter, angle_RightUpLeg_filter, angle_LeftUpLeg_filter ]"
   ]
  },
  {
   "cell_type": "code",
   "execution_count": 13,
   "metadata": {},
   "outputs": [
    {
     "name": "stderr",
     "output_type": "stream",
     "text": [
      "C:\\Users\\User\\AppData\\Roaming\\Python\\Python39\\site-packages\\sklearn\\utils\\validation.py:63: DataConversionWarning: A column-vector y was passed when a 1d array was expected. Please change the shape of y to (n_samples, ), for example using ravel().\n",
      "  return f(*args, **kwargs)\n"
     ]
    },
    {
     "name": "stdout",
     "output_type": "stream",
     "text": [
      "Iteration 1, loss = 8.47043394\n",
      "Iteration 2, loss = 3.13912132\n",
      "Iteration 3, loss = 3.02405125\n",
      "Iteration 4, loss = 1.39744456\n",
      "Iteration 5, loss = 1.77647372\n",
      "Iteration 6, loss = 1.38204802\n",
      "Iteration 7, loss = 1.31826765\n",
      "Iteration 8, loss = 1.08801283\n",
      "Iteration 9, loss = 1.08938975\n",
      "Iteration 10, loss = 1.02357737\n",
      "Iteration 11, loss = 0.99177493\n",
      "Iteration 12, loss = 0.96996856\n",
      "Iteration 13, loss = 0.93178641\n",
      "Iteration 14, loss = 0.91271944\n",
      "Iteration 15, loss = 0.90005608\n",
      "Iteration 16, loss = 0.87565112\n",
      "Iteration 17, loss = 0.86170141\n",
      "Iteration 18, loss = 0.83522936\n",
      "Iteration 19, loss = 0.80973579\n",
      "Iteration 20, loss = 0.80213990\n",
      "Iteration 21, loss = 0.77844743\n",
      "Iteration 22, loss = 0.76557490\n",
      "Iteration 23, loss = 0.73754156\n",
      "Iteration 24, loss = 0.72538894\n",
      "Iteration 25, loss = 0.70769625\n",
      "Iteration 26, loss = 0.69978145\n",
      "Iteration 27, loss = 0.68181523\n",
      "Iteration 28, loss = 0.66480546\n",
      "Iteration 29, loss = 0.64758976\n",
      "Iteration 30, loss = 0.63770280\n",
      "Iteration 31, loss = 0.62665223\n",
      "Iteration 32, loss = 0.61861366\n",
      "Iteration 33, loss = 0.61574511\n",
      "Iteration 34, loss = 0.60958893\n",
      "Iteration 35, loss = 0.59952392\n",
      "Iteration 36, loss = 0.59433118\n",
      "Iteration 37, loss = 0.58351953\n",
      "Iteration 38, loss = 0.57857075\n",
      "Iteration 39, loss = 0.56992786\n",
      "Iteration 40, loss = 0.56399672\n",
      "Iteration 41, loss = 0.55968228\n",
      "Iteration 42, loss = 0.55426421\n",
      "Iteration 43, loss = 0.55686481\n",
      "Iteration 44, loss = 0.54870998\n",
      "Iteration 45, loss = 0.54633384\n",
      "Iteration 46, loss = 0.53970104\n",
      "Iteration 47, loss = 0.54230419\n",
      "Iteration 48, loss = 0.53550297\n",
      "Iteration 49, loss = 0.53141720\n",
      "Iteration 50, loss = 0.54188832\n",
      "Iteration 51, loss = 0.52351953\n",
      "Iteration 52, loss = 0.51955444\n",
      "Iteration 53, loss = 0.51884442\n",
      "Iteration 54, loss = 0.51826614\n",
      "Iteration 55, loss = 0.51362243\n",
      "Iteration 56, loss = 0.51225304\n",
      "Iteration 57, loss = 0.50806181\n",
      "Iteration 58, loss = 0.50985763\n",
      "Iteration 59, loss = 0.50898899\n",
      "Iteration 60, loss = 0.50517439\n",
      "Iteration 61, loss = 0.49721522\n",
      "Iteration 62, loss = 0.49270991\n",
      "Iteration 63, loss = 0.49186451\n",
      "Iteration 64, loss = 0.49307768\n",
      "Iteration 65, loss = 0.48995752\n",
      "Iteration 66, loss = 0.48932418\n",
      "Iteration 67, loss = 0.49189220\n",
      "Iteration 68, loss = 0.49113843\n",
      "Iteration 69, loss = 0.48229903\n",
      "Iteration 70, loss = 0.48026397\n",
      "Iteration 71, loss = 0.47757463\n",
      "Iteration 72, loss = 0.47699925\n",
      "Iteration 73, loss = 0.47462824\n",
      "Iteration 74, loss = 0.48051067\n",
      "Iteration 75, loss = 0.47291936\n",
      "Iteration 76, loss = 0.47865660\n",
      "Iteration 77, loss = 0.48086024\n",
      "Iteration 78, loss = 0.49294975\n",
      "Iteration 79, loss = 0.48147420\n",
      "Iteration 80, loss = 0.50566252\n",
      "Iteration 81, loss = 0.47948959\n",
      "Iteration 82, loss = 0.46885723\n",
      "Iteration 83, loss = 0.49787221\n",
      "Iteration 84, loss = 0.49101219\n",
      "Iteration 85, loss = 0.48030717\n",
      "Iteration 86, loss = 0.48280601\n",
      "Iteration 87, loss = 0.47552031\n",
      "Iteration 88, loss = 0.47302903\n",
      "Iteration 89, loss = 0.46521302\n",
      "Iteration 90, loss = 0.45978260\n",
      "Iteration 91, loss = 0.45742842\n",
      "Iteration 92, loss = 0.45289774\n",
      "Iteration 93, loss = 0.45272450\n",
      "Iteration 94, loss = 0.45714108\n",
      "Iteration 95, loss = 0.45268053\n",
      "Iteration 96, loss = 0.45065433\n",
      "Iteration 97, loss = 0.45013536\n",
      "Iteration 98, loss = 0.45867166\n",
      "Iteration 99, loss = 0.44832712\n",
      "Iteration 100, loss = 0.45549190\n",
      "Iteration 101, loss = 0.46023634\n",
      "Iteration 102, loss = 0.45382182\n",
      "Iteration 103, loss = 0.46938116\n",
      "Iteration 104, loss = 0.45084396\n",
      "Iteration 105, loss = 0.44724529\n",
      "Iteration 106, loss = 0.43962576\n",
      "Iteration 107, loss = 0.43960219\n",
      "Iteration 108, loss = 0.43828095\n",
      "Iteration 109, loss = 0.44195448\n",
      "Iteration 110, loss = 0.45741599\n",
      "Iteration 111, loss = 0.43736183\n",
      "Iteration 112, loss = 0.43597945\n",
      "Iteration 113, loss = 0.43256498\n",
      "Iteration 114, loss = 0.43498573\n",
      "Iteration 115, loss = 0.43189432\n",
      "Iteration 116, loss = 0.43197255\n",
      "Iteration 117, loss = 0.43408855\n",
      "Iteration 118, loss = 0.43107073\n",
      "Iteration 119, loss = 0.43659208\n",
      "Iteration 120, loss = 0.43015468\n",
      "Iteration 121, loss = 0.42918006\n",
      "Iteration 122, loss = 0.43432239\n",
      "Iteration 123, loss = 0.43753374\n",
      "Iteration 124, loss = 0.42682430\n",
      "Iteration 125, loss = 0.42885895\n",
      "Iteration 126, loss = 0.42859748\n",
      "Iteration 127, loss = 0.42823235\n",
      "Iteration 128, loss = 0.42284380\n",
      "Iteration 129, loss = 0.43568095\n",
      "Iteration 130, loss = 0.42161643\n",
      "Iteration 131, loss = 0.42067260\n",
      "Iteration 132, loss = 0.42245810\n",
      "Iteration 133, loss = 0.41965712\n",
      "Iteration 134, loss = 0.42524171\n",
      "Iteration 135, loss = 0.41961744\n",
      "Iteration 136, loss = 0.43942473\n",
      "Iteration 137, loss = 0.43062630\n",
      "Iteration 138, loss = 0.43281810\n",
      "Iteration 139, loss = 0.42528445\n",
      "Iteration 140, loss = 0.42942350\n",
      "Iteration 141, loss = 0.42301315\n",
      "Iteration 142, loss = 0.42716363\n",
      "Iteration 143, loss = 0.41712460\n",
      "Iteration 144, loss = 0.42874259\n",
      "Iteration 145, loss = 0.41907431\n",
      "Iteration 146, loss = 0.42554401\n",
      "Iteration 147, loss = 0.41995774\n",
      "Iteration 148, loss = 0.43069383\n",
      "Iteration 149, loss = 0.42440418\n",
      "Iteration 150, loss = 0.41996222\n",
      "Iteration 151, loss = 0.41244601\n",
      "Iteration 152, loss = 0.41018140\n",
      "Iteration 153, loss = 0.40710581\n",
      "Iteration 154, loss = 0.41169379\n",
      "Iteration 155, loss = 0.40896755\n",
      "Iteration 156, loss = 0.40379962\n",
      "Iteration 157, loss = 0.40684651\n",
      "Iteration 158, loss = 0.41918918\n",
      "Iteration 159, loss = 0.40865618\n",
      "Iteration 160, loss = 0.40673325\n",
      "Iteration 161, loss = 0.41021636\n",
      "Iteration 162, loss = 0.41012002\n",
      "Iteration 163, loss = 0.40148392\n",
      "Iteration 164, loss = 0.40674071\n",
      "Iteration 165, loss = 0.40125833\n",
      "Iteration 166, loss = 0.40984113\n",
      "Iteration 167, loss = 0.40669175\n",
      "Iteration 168, loss = 0.40177883\n",
      "Iteration 169, loss = 0.39818088\n",
      "Iteration 170, loss = 0.41197537\n",
      "Iteration 171, loss = 0.40081768\n",
      "Iteration 172, loss = 0.40254314\n",
      "Iteration 173, loss = 0.39417302\n",
      "Iteration 174, loss = 0.39495189\n",
      "Iteration 175, loss = 0.39766140\n",
      "Iteration 176, loss = 0.39955801\n",
      "Iteration 177, loss = 0.40289030\n",
      "Iteration 178, loss = 0.40273451\n",
      "Iteration 179, loss = 0.40571684\n",
      "Iteration 180, loss = 0.39529125\n",
      "Iteration 181, loss = 0.39222830\n",
      "Iteration 182, loss = 0.39053914\n",
      "Iteration 183, loss = 0.39418561\n",
      "Iteration 184, loss = 0.39176840\n",
      "Iteration 185, loss = 0.39531356\n",
      "Iteration 186, loss = 0.39412107\n",
      "Iteration 187, loss = 0.39325847\n",
      "Iteration 188, loss = 0.38950861\n",
      "Iteration 189, loss = 0.39802082\n",
      "Iteration 190, loss = 0.39794541\n",
      "Iteration 191, loss = 0.43028171\n",
      "Iteration 192, loss = 0.42406619\n",
      "Iteration 193, loss = 0.40797434\n",
      "Iteration 194, loss = 0.40048725\n",
      "Iteration 195, loss = 0.40004126\n",
      "Iteration 196, loss = 0.39353190\n",
      "Iteration 197, loss = 0.39888365\n",
      "Iteration 198, loss = 0.39595265\n",
      "Iteration 199, loss = 0.39072032\n",
      "Training loss did not improve more than tol=0.000010 for 10 consecutive epochs. Stopping.\n"
     ]
    },
    {
     "data": {
      "text/plain": [
       "MLPClassifier(max_iter=1000, tol=1e-05, verbose=True)"
      ]
     },
     "execution_count": 13,
     "metadata": {},
     "output_type": "execute_result"
    }
   ],
   "source": [
    "classificador.fit(previsores, classes)"
   ]
  },
  {
   "cell_type": "code",
   "execution_count": 15,
   "metadata": {},
   "outputs": [],
   "source": [
    "teste = np.c_[ angle_S_0_filter, angle_R_0_filter, angle_L_0_filter ]"
   ]
  },
  {
   "cell_type": "code",
   "execution_count": 16,
   "metadata": {},
   "outputs": [],
   "source": [
    "previsoes = classificador.predict(teste)"
   ]
  },
  {
   "cell_type": "code",
   "execution_count": 17,
   "metadata": {},
   "outputs": [
    {
     "data": {
      "text/plain": [
       "[<matplotlib.lines.Line2D at 0x1ee56529460>,\n",
       " <matplotlib.lines.Line2D at 0x1ee56529550>,\n",
       " <matplotlib.lines.Line2D at 0x1ee56529490>]"
      ]
     },
     "execution_count": 17,
     "metadata": {},
     "output_type": "execute_result"
    },
    {
     "data": {
      "image/png": "[encoded data removed]",
      "text/plain": [
       "<Figure size 432x288 with 1 Axes>"
      ]
     },
     "metadata": {
      "needs_background": "light"
     },
     "output_type": "display_data"
    }
   ],
   "source": [
    "plt.plot(teste)"
   ]
  },
  {
   "cell_type": "code",
   "execution_count": 18,
   "metadata": {},
   "outputs": [
    {
     "data": {
      "text/plain": [
       "[<matplotlib.lines.Line2D at 0x1ee56601430>]"
      ]
     },
     "execution_count": 18,
     "metadata": {},
     "output_type": "execute_result"
    },
    {
     "data": {
      "image/png": "[encoded data removed]",
      "text/plain": [
       "<Figure size 432x288 with 1 Axes>"
      ]
     },
     "metadata": {
      "needs_background": "light"
     },
     "output_type": "display_data"
    }
   ],
   "source": [
    "plt.plot(previsoes)"
   ]
  },
  {
   "cell_type": "markdown",
   "metadata": {},
   "source": [
    "# Random Forest"
   ]
  },
  {
   "cell_type": "code",
   "execution_count": 21,
   "metadata": {},
   "outputs": [],
   "source": [
    "from sklearn.ensemble import RandomForestClassifier"
   ]
  },
  {
   "cell_type": "code",
   "execution_count": 32,
   "metadata": {},
   "outputs": [],
   "source": [
    "classificador = RandomForestClassifier(n_estimators = 50, criterion = 'entropy')"
   ]
  },
  {
   "cell_type": "code",
   "execution_count": 33,
   "metadata": {},
   "outputs": [
    {
     "name": "stderr",
     "output_type": "stream",
     "text": [
      "<ipython-input-33-05001fc67599>:1: DataConversionWarning: A column-vector y was passed when a 1d array was expected. Please change the shape of y to (n_samples,), for example using ravel().\n",
      "  classificador.fit(previsores, classes)\n"
     ]
    },
    {
     "data": {
      "text/plain": [
       "RandomForestClassifier(criterion='entropy', n_estimators=50)"
      ]
     },
     "execution_count": 33,
     "metadata": {},
     "output_type": "execute_result"
    }
   ],
   "source": [
    "classificador.fit(previsores, classes)"
   ]
  },
  {
   "cell_type": "code",
   "execution_count": 34,
   "metadata": {},
   "outputs": [],
   "source": [
    "previsoes = classificador.predict(teste)"
   ]
  },
  {
   "cell_type": "code",
   "execution_count": 35,
   "metadata": {},
   "outputs": [
    {
     "data": {
      "text/plain": [
       "[<matplotlib.lines.Line2D at 0x1ee56b33580>,\n",
       " <matplotlib.lines.Line2D at 0x1ee56b335b0>,\n",
       " <matplotlib.lines.Line2D at 0x1ee56b33670>]"
      ]
     },
     "execution_count": 35,
     "metadata": {},
     "output_type": "execute_result"
    },
    {
     "data": {
      "image/png": "[encoded data removed]",
      "text/plain": [
       "<Figure size 432x288 with 1 Axes>"
      ]
     },
     "metadata": {
      "needs_background": "light"
     },
     "output_type": "display_data"
    }
   ],
   "source": [
    "plt.plot(teste)"
   ]
  },
  {
   "cell_type": "code",
   "execution_count": 36,
   "metadata": {},
   "outputs": [
    {
     "data": {
      "text/plain": [
       "[<matplotlib.lines.Line2D at 0x1ee56b83f70>]"
      ]
     },
     "execution_count": 36,
     "metadata": {},
     "output_type": "execute_result"
    },
    {
     "data": {
      "image/png": "[encoded data removed]",
      "text/plain": [
       "<Figure size 432x288 with 1 Axes>"
      ]
     },
     "metadata": {
      "needs_background": "light"
     },
     "output_type": "display_data"
    }
   ],
   "source": [
    "plt.plot(previsoes)"
   ]
  },
  {
   "cell_type": "markdown",
   "metadata": {},
   "source": [
    "# Treinar com mais dados, então aplicar as informações do DTW em mais dados e aplicar no RNN e no Random Forest"
   ]
  },
  {
   "cell_type": "code",
   "execution_count": null,
   "metadata": {},
   "outputs": [],
   "source": []
  }
 ],
 "metadata": {
  "kernelspec": {
   "display_name": "Python 3",
   "language": "python",
   "name": "python3"
  },
  "language_info": {
   "codemirror_mode": {
    "name": "ipython",
    "version": 3
   },
   "file_extension": ".py",
   "mimetype": "text/x-python",
   "name": "python",
   "nbconvert_exporter": "python",
   "pygments_lexer": "ipython3",
   "version": "3.9.1"
  }
 },
 "nbformat": 4,
 "nbformat_minor": 4
}
