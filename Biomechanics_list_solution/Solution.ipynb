{
 "cells": [
  {
   "cell_type": "markdown",
   "metadata": {},
   "source": [
    "<h2>EXERCÍCIO:</h2>\n",
    "<br>\n",
    "<p>Separe os dois canais do arquivo V1PRO, onde um canal possue dados de eletromiografia e um outro canal possue dados de força. Encontrem o maior valor da força em unidades do arquivo.</p>\n",
    "\n",
    "\n"
   ]
  },
  {
   "cell_type": "code",
   "execution_count": 57,
   "metadata": {
    "scrolled": true
   },
   "outputs": [
    {
     "name": "stdout",
     "output_type": "stream",
     "text": [
      "Dados de eletromiografia:\n",
      "            0\n",
      "0     -0.0012\n",
      "1     -0.0024\n",
      "2     -0.0040\n",
      "3     -0.0055\n",
      "4     -0.0040\n",
      "...       ...\n",
      "15146 -0.0009\n",
      "15147  0.0000\n",
      "15148 -0.0015\n",
      "15149 -0.0040\n",
      "15150 -0.0043\n",
      "\n",
      "[15151 rows x 1 columns]\n",
      "Dados de força:\n",
      "            0\n",
      "0      2.0731\n",
      "1      2.0728\n",
      "2      2.0728\n",
      "3      2.0728\n",
      "4      2.0724\n",
      "...       ...\n",
      "15146  1.9223\n",
      "15147  1.9223\n",
      "15148  1.9226\n",
      "15149  1.9223\n",
      "15150  1.9229\n",
      "\n",
      "[15151 rows x 1 columns]\n",
      "O valor de força máxima é: 3.736\n"
     ]
    }
   ],
   "source": [
    "import pandas as pd\n",
    "import matplotlib.pyplot as plt\n",
    "import numpy as np\n",
    "#Importar arquivo com os dados, sep='\\t' é a forma que o arquivo separa as informações,\n",
    "# o header=None enumera as colunas de dados, de forma que os dados da primeira linha não fiquem como nomes das colunas.\n",
    "base = pd.read_csv('V1PRO.csv', sep='\\t', header=None)\n",
    "# Separar a coluna 6 que é dados de eletromiografia\n",
    "EM = base.iloc[:,6:7].values\n",
    "# E a coluna 7 é os dados de força\n",
    "forca = base.iloc[:,7:8].values\n",
    "# Criar arquivo separando dados de forca e eletromiografia\n",
    "np.savetxt(\"sep_forca.csv\", forca, delimiter=\";\")\n",
    "np.savetxt(\"sep_EM.csv\", EM, delimiter=\";\")\n",
    "# Abrir arquivos de força e EM e mostrar dados\n",
    "print(\"Dados de eletromiografia:\")\n",
    "data_EM = pd.read_csv('sep_EM.csv', sep=';', header=None)\n",
    "print(data_EM)\n",
    "print(\"Dados de força:\")\n",
    "data_forca = pd.read_csv('sep_forca.csv', sep=';', header=None)\n",
    "print(data_forca)\n",
    "# Classificar a força máxima encontrada\n",
    "forca_max = 0\n",
    "# Percorrer todos os elementos do arquivo forca e substitutir a forca_max quando o elemento for maior.\n",
    "for elemento in forca:\n",
    "    if elemento > forca_max:\n",
    "        forca_max = elemento\n",
    "forca_max = float(forca_max)\n",
    "print(\"O valor de força máxima é:\",forca_max)\n",
    "            \n",
    "\n"
   ]
  },
  {
   "cell_type": "code",
   "execution_count": null,
   "metadata": {},
   "outputs": [],
   "source": []
  },
  {
   "cell_type": "code",
   "execution_count": null,
   "metadata": {},
   "outputs": [],
   "source": []
  },
  {
   "cell_type": "code",
   "execution_count": null,
   "metadata": {},
   "outputs": [],
   "source": []
  },
  {
   "cell_type": "code",
   "execution_count": null,
   "metadata": {},
   "outputs": [],
   "source": []
  }
 ],
 "metadata": {
  "kernelspec": {
   "display_name": "Python 3",
   "language": "python",
   "name": "python3"
  },
  "language_info": {
   "codemirror_mode": {
    "name": "ipython",
    "version": 3
   },
   "file_extension": ".py",
   "mimetype": "text/x-python",
   "name": "python",
   "nbconvert_exporter": "python",
   "pygments_lexer": "ipython3",
   "version": "3.7.4"
  }
 },
 "nbformat": 4,
 "nbformat_minor": 2
}
