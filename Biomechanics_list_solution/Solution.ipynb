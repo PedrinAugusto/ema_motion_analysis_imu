{
 "cells": [
  {
   "cell_type": "markdown",
   "metadata": {},
   "source": [
    "<h2>EXERCÍCIO:</h2>\n",
    "<br>\n",
    "<p>Realizar as seguintes conversões:</p>\n",
    "<p>a) 4,5 kg para slug</p>\n",
    "<p>b) 18,2 ft/s para m/s</p>\n",
    "<p>c) 9,1 Nm para lbft</p>\n",
    "\n"
   ]
  },
  {
   "cell_type": "code",
   "execution_count": 46,
   "metadata": {},
   "outputs": [
    {
     "name": "stdout",
     "output_type": "stream",
     "text": [
      "Letra a) transformação de kg para slug\n",
      "Informe o peso em kg: 4.5\n",
      "4.5 kg = 0.3105 sl\n",
      "\n",
      "Letra b) transformação de ft/s para m/s\n",
      "Informe a velocidade em ft/s: 18.2\n",
      "18.2 ft/s = 5.5470893020420595 m/s\n",
      "\n",
      "Letra c) transformação de Nm para lbft\n",
      "Informe o torque em Nm: 9.1\n",
      "9.1 Nm = 6.7178474999999995 lbft\n",
      "\n"
     ]
    }
   ],
   "source": [
    "# 1 m   =  3,281 ft\n",
    "# 1 kg  =  0,069 sl\n",
    "# 1 N   =  0,225 lb\n",
    "\n",
    "# a) 4,5 kg para slug\n",
    "# b) 18,2 ft/s para m/s\n",
    "# c) 9,1 Nm para lbft\n",
    "\n",
    "print(\"Letra a) transformação de kg para slug\") \n",
    "kg = input(\"Informe o peso em kg: \")\n",
    "kg = float(kg)\n",
    "#kg = 0.069*sl\n",
    "sl = kg*0.069\n",
    "print(kg ,\"kg =\",sl, \"sl\")\n",
    "print()\n",
    "#sleep(1000)\n",
    "\n",
    "print(\"Letra b) transformação de ft/s para m/s\") \n",
    "ft = input(\"Informe a velocidade em ft/s: \")\n",
    "ft = float(ft)\n",
    "#ft = 3.281*ft\n",
    "m = ft/3.281\n",
    "print(ft ,\"ft/s =\",m, \"m/s\")\n",
    "print()\n",
    "\n",
    "print(\"Letra c) transformação de Nm para lbft\") \n",
    "Nm = input(\"Informe o torque em Nm: \")\n",
    "Nm = float(Nm)\n",
    "razaolbft = 0.225*3.281\n",
    "#Nm = razaolbft*lbft\n",
    "lbft = razaolbft*Nm\n",
    "print(Nm ,\"Nm =\",lbft, \"lbft\")\n",
    "print()"
   ]
  },
  {
   "cell_type": "code",
   "execution_count": null,
   "metadata": {},
   "outputs": [],
   "source": []
  },
  {
   "cell_type": "code",
   "execution_count": null,
   "metadata": {},
   "outputs": [],
   "source": []
  },
  {
   "cell_type": "code",
   "execution_count": null,
   "metadata": {},
   "outputs": [],
   "source": []
  },
  {
   "cell_type": "code",
   "execution_count": null,
   "metadata": {},
   "outputs": [],
   "source": []
  }
 ],
 "metadata": {
  "kernelspec": {
   "display_name": "Python 3",
   "language": "python",
   "name": "python3"
  }
 },
 "nbformat": 4,
 "nbformat_minor": 2
}
